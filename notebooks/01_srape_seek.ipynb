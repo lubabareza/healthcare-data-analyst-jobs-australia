{
 "cells": [
  {
   "cell_type": "code",
   "execution_count": 63,
   "id": "2eebfb04-4da1-4327-912d-a66119877bc3",
   "metadata": {},
   "outputs": [],
   "source": [
    "from selenium import webdriver\n",
    "from selenium.webdriver.firefox.service import Service\n",
    "from webdriver_manager.firefox import GeckoDriverManager\n",
    "from bs4 import BeautifulSoup\n",
    "import pandas as pd\n",
    "import numpy as np\n",
    "import os"
   ]
  },
  {
   "cell_type": "code",
   "execution_count": 65,
   "id": "4ed78138-d0a2-44ce-a747-a2e137b8801c",
   "metadata": {},
   "outputs": [
    {
     "name": "stdout",
     "output_type": "stream",
     "text": [
      "['https://www.seek.com.au/healthcare-data-analyst-jobs', 'https://www.seek.com.au/healthcare-data-analyst-jobs?page=2', 'https://www.seek.com.au/healthcare-data-analyst-jobs?page=3', 'https://www.seek.com.au/healthcare-data-analyst-jobs?page=4', 'https://www.seek.com.au/healthcare-data-analyst-jobs?page=5']\n"
     ]
    }
   ],
   "source": [
    "#generating URLs for the first five pages\n",
    "base_url = \"https://www.seek.com.au/healthcare-data-analyst-jobs\"\n",
    "page_urls = [base_url]\n",
    "for p in range(2,6):\n",
    "    page_urls.append(f\"{base_url}?page={p}\")\n",
    "print(page_urls)\n",
    "\n",
    "#dataframe to store extracted info from jobs \n",
    "columns = ['Title', 'Company', 'Location', 'Short Description', 'Link']\n",
    "job_data = pd.DataFrame(columns=columns)"
   ]
  },
  {
   "cell_type": "code",
   "execution_count": 67,
   "id": "b03509e9-56d0-45e1-8653-91445618fc77",
   "metadata": {},
   "outputs": [],
   "source": [
    "service = Service(GeckoDriverManager().install())\n",
    "driver = webdriver.Firefox(service=service)\n",
    "\n",
    "for url in page_urls:\n",
    "    driver.get(url)\n",
    "    html = driver.page_source\n",
    "    soup = BeautifulSoup(html, \"html.parser\")\n",
    "\n",
    "    #finding all the job cards\n",
    "    job_cards = soup.find_all(\"article\", {\"data-automation\" : \"normalJob\"})\n",
    "    \n",
    "    for card in job_cards:\n",
    "        title = (card.find(\"a\", {\"data-automation\" : \"jobTitle\"})).get_text(strip=True)\n",
    "        company = (card.find(\"a\", {\"data-automation\" : \"jobCompany\"})).get_text(strip=True)\n",
    "        location = (card.find(\"a\", {\"data-automation\" : \"jobLocation\"})).get_text(strip=True)\n",
    "        short_desc = (card.find(\"span\", {\"data-automation\" : \"jobShortDescription\"})).get_text(strip=True)\n",
    "        link = card.find(\"a\", {\"data-automation\" : \"jobTitle\"})[\"href\"]\n",
    "        \n",
    "        job_data.loc[len(job_data)] = [title, company, location, short_desc, link]\n",
    "\n",
    "driver.quit()"
   ]
  },
  {
   "cell_type": "code",
   "execution_count": 69,
   "id": "cf32ce5a-2dd7-4539-81cb-cc389c25c2e4",
   "metadata": {},
   "outputs": [
    {
     "name": "stdout",
     "output_type": "stream",
     "text": [
      "Data saved to C:\\Users\\lubab\\OneDrive\\Documents\\Data Science Portfolio Projects\\Healthcare Data Anayst Jobs Australia\\healthcare-data-analyst-jobs-australia\\data\\raw\\healthcare_jobs.csv\n"
     ]
    }
   ],
   "source": [
    "# Define your target folder\n",
    "folder_path = \"C:\\\\Users\\\\lubab\\\\OneDrive\\\\Documents\\\\Data Science Portfolio Projects\\\\Healthcare Data Anayst Jobs Australia\\\\healthcare-data-analyst-jobs-australia\\\\data\\\\raw\"\n",
    "\n",
    "# Make sure the folder exists (optional but recommended)\n",
    "os.makedirs(folder_path, exist_ok=True)\n",
    "\n",
    "# Full file path\n",
    "file_path = os.path.join(folder_path, \"healthcare_jobs.csv\")\n",
    "\n",
    "# Save CSV\n",
    "job_data.to_csv(file_path, index=False, encoding=\"utf-8-sig\")\n",
    "\n",
    "print(f\"Data saved to {file_path}\")"
   ]
  }
 ],
 "metadata": {
  "kernelspec": {
   "display_name": "Python 3 (ipykernel)",
   "language": "python",
   "name": "python3"
  },
  "language_info": {
   "codemirror_mode": {
    "name": "ipython",
    "version": 3
   },
   "file_extension": ".py",
   "mimetype": "text/x-python",
   "name": "python",
   "nbconvert_exporter": "python",
   "pygments_lexer": "ipython3",
   "version": "3.12.4"
  }
 },
 "nbformat": 4,
 "nbformat_minor": 5
}
