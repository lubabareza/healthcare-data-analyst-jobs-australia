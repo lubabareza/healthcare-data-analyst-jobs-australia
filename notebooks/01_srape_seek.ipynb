{
 "cells": [
  {
   "cell_type": "code",
   "execution_count": 12,
   "id": "2eebfb04-4da1-4327-912d-a66119877bc3",
   "metadata": {},
   "outputs": [],
   "source": [
    "from selenium import webdriver\n",
    "from selenium.webdriver.firefox.service import Service\n",
    "from webdriver_manager.firefox import GeckoDriverManager\n",
    "from bs4 import BeautifulSoup\n",
    "import pandas as pd\n",
    "import numpy as np\n",
    "import os"
   ]
  },
  {
   "cell_type": "code",
   "execution_count": 73,
   "id": "4ed78138-d0a2-44ce-a747-a2e137b8801c",
   "metadata": {},
   "outputs": [
    {
     "name": "stdout",
     "output_type": "stream",
     "text": [
      "['https://www.seek.com.au/healthcare-data-analyst-jobs', 'https://www.seek.com.au/healthcare-data-analyst-jobs?page=2', 'https://www.seek.com.au/healthcare-data-analyst-jobs?page=3', 'https://www.seek.com.au/healthcare-data-analyst-jobs?page=4', 'https://www.seek.com.au/healthcare-data-analyst-jobs?page=5']\n"
     ]
    }
   ],
   "source": [
    "#generating URLs for the first five pages\n",
    "base_url = \"https://www.seek.com.au/healthcare-data-analyst-jobs\"\n",
    "page_urls = [base_url]\n",
    "for p in range(2,6):\n",
    "    page_urls.append(f\"{base_url}?page={p}\")\n",
    "print(page_urls)\n",
    "\n",
    "#dataframe to store extracted info from jobs \n",
    "columns = ['Title', 'Company', 'Location', 'Short Description', 'Link']\n",
    "job_data = pd.DataFrame(columns=columns)"
   ]
  },
  {
   "cell_type": "code",
   "execution_count": 75,
   "id": "b03509e9-56d0-45e1-8653-91445618fc77",
   "metadata": {},
   "outputs": [],
   "source": [
    "service = Service(GeckoDriverManager().install())\n",
    "driver = webdriver.Firefox(service=service)\n",
    "\n",
    "for url in page_urls:\n",
    "    driver.get(url)\n",
    "    html = driver.page_source\n",
    "    soup = BeautifulSoup(html, \"html.parser\")\n",
    "\n",
    "    #finding all the job cards\n",
    "    job_cards = soup.find_all(\"article\", {\"data-automation\" : \"normalJob\"})\n",
    "    \n",
    "    for card in job_cards:\n",
    "        title = (card.find(\"a\", {\"data-automation\" : \"jobTitle\"})).get_text(strip=True)\n",
    "        company = (card.find(\"a\", {\"data-automation\" : \"jobCompany\"})).get_text(strip=True)\n",
    "        location = (card.find(\"a\", {\"data-automation\" : \"jobLocation\"})).get_text(strip=True)\n",
    "        short_desc = (card.find(\"span\", {\"data-automation\" : \"jobShortDescription\"})).get_text(strip=True)\n",
    "        title_link = card.find(\"a\", {\"data-automation\" : \"jobTitle\"})[\"href\"]\n",
    "        full_link = \"https://www.seek.com.au\" + title_link\n",
    "        \n",
    "        job_data.loc[len(job_data)] = [title, company, location, short_desc, full_link]\n",
    "\n",
    "driver.quit()"
   ]
  },
  {
   "cell_type": "code",
   "execution_count": 77,
   "id": "cf32ce5a-2dd7-4539-81cb-cc389c25c2e4",
   "metadata": {},
   "outputs": [
    {
     "name": "stdout",
     "output_type": "stream",
     "text": [
      "Data saved to C:\\Users\\lubab\\OneDrive\\Documents\\Data Science Portfolio Projects\\Healthcare Data Anayst Jobs Australia\\healthcare-data-analyst-jobs-australia\\data\\raw\\healthcare_jobs.csv\n"
     ]
    }
   ],
   "source": [
    "# Define your target folder\n",
    "folder_path = \"C:\\\\Users\\\\lubab\\\\OneDrive\\\\Documents\\\\Data Science Portfolio Projects\\\\Healthcare Data Anayst Jobs Australia\\\\healthcare-data-analyst-jobs-australia\\\\data\\\\raw\"\n",
    "\n",
    "# Make sure the folder exists (optional but recommended)\n",
    "os.makedirs(folder_path, exist_ok=True)\n",
    "\n",
    "# Full file path\n",
    "file_path = os.path.join(folder_path, \"healthcare_jobs.csv\")\n",
    "\n",
    "# Save CSV\n",
    "job_data.to_csv(file_path, index=False, encoding=\"utf-8-sig\")\n",
    "\n",
    "print(f\"Data saved to {file_path}\")"
   ]
  },
  {
   "cell_type": "markdown",
   "id": "a5aa7dd7-a330-4147-8e46-4074beb94c20",
   "metadata": {},
   "source": [
    "## Extracting full description for each job"
   ]
  },
  {
   "cell_type": "code",
   "execution_count": 3,
   "id": "d43f9b48-92ef-4b92-9c10-251aa84ff27f",
   "metadata": {},
   "outputs": [
    {
     "data": {
      "text/html": [
       "<div>\n",
       "<style scoped>\n",
       "    .dataframe tbody tr th:only-of-type {\n",
       "        vertical-align: middle;\n",
       "    }\n",
       "\n",
       "    .dataframe tbody tr th {\n",
       "        vertical-align: top;\n",
       "    }\n",
       "\n",
       "    .dataframe thead th {\n",
       "        text-align: right;\n",
       "    }\n",
       "</style>\n",
       "<table border=\"1\" class=\"dataframe\">\n",
       "  <thead>\n",
       "    <tr style=\"text-align: right;\">\n",
       "      <th></th>\n",
       "      <th>Title</th>\n",
       "      <th>Company</th>\n",
       "      <th>Location</th>\n",
       "      <th>Short Description</th>\n",
       "      <th>Link</th>\n",
       "    </tr>\n",
       "  </thead>\n",
       "  <tbody>\n",
       "    <tr>\n",
       "      <th>0</th>\n",
       "      <td>Data Analyst</td>\n",
       "      <td>Western Health</td>\n",
       "      <td>St Albans</td>\n",
       "      <td>A unique opportunity exists to join the Wester...</td>\n",
       "      <td>https://www.seek.com.au/job/86244018?type=stan...</td>\n",
       "    </tr>\n",
       "    <tr>\n",
       "      <th>1</th>\n",
       "      <td>Population Health Data Analyst</td>\n",
       "      <td>South Eastern Melbourne Primary Health Network</td>\n",
       "      <td>Heatherton</td>\n",
       "      <td>Analyse data to drive population health planning</td>\n",
       "      <td>https://www.seek.com.au/job/86312389?type=stan...</td>\n",
       "    </tr>\n",
       "    <tr>\n",
       "      <th>2</th>\n",
       "      <td>Data Analyst</td>\n",
       "      <td>Western Health</td>\n",
       "      <td>Williamstown</td>\n",
       "      <td>Drive data-driven insights and improve organis...</td>\n",
       "      <td>https://www.seek.com.au/job/86238954?type=stan...</td>\n",
       "    </tr>\n",
       "    <tr>\n",
       "      <th>3</th>\n",
       "      <td>Data Analyst</td>\n",
       "      <td>Western Health</td>\n",
       "      <td>Footscray</td>\n",
       "      <td>Excellent data management and problem skills, ...</td>\n",
       "      <td>https://www.seek.com.au/job/86244700?type=stan...</td>\n",
       "    </tr>\n",
       "    <tr>\n",
       "      <th>4</th>\n",
       "      <td>Senior Analyst</td>\n",
       "      <td>Alfred Health</td>\n",
       "      <td>Melbourne VIC</td>\n",
       "      <td>Permanent Full Time (1.0 EFT / 80 Hours) + ADO...</td>\n",
       "      <td>https://www.seek.com.au/job/86301836?type=stan...</td>\n",
       "    </tr>\n",
       "  </tbody>\n",
       "</table>\n",
       "</div>"
      ],
      "text/plain": [
       "                            Title  \\\n",
       "0                    Data Analyst   \n",
       "1  Population Health Data Analyst   \n",
       "2                    Data Analyst   \n",
       "3                    Data Analyst   \n",
       "4                  Senior Analyst   \n",
       "\n",
       "                                          Company       Location  \\\n",
       "0                                  Western Health      St Albans   \n",
       "1  South Eastern Melbourne Primary Health Network     Heatherton   \n",
       "2                                  Western Health   Williamstown   \n",
       "3                                  Western Health      Footscray   \n",
       "4                                   Alfred Health  Melbourne VIC   \n",
       "\n",
       "                                   Short Description  \\\n",
       "0  A unique opportunity exists to join the Wester...   \n",
       "1   Analyse data to drive population health planning   \n",
       "2  Drive data-driven insights and improve organis...   \n",
       "3  Excellent data management and problem skills, ...   \n",
       "4  Permanent Full Time (1.0 EFT / 80 Hours) + ADO...   \n",
       "\n",
       "                                                Link  \n",
       "0  https://www.seek.com.au/job/86244018?type=stan...  \n",
       "1  https://www.seek.com.au/job/86312389?type=stan...  \n",
       "2  https://www.seek.com.au/job/86238954?type=stan...  \n",
       "3  https://www.seek.com.au/job/86244700?type=stan...  \n",
       "4  https://www.seek.com.au/job/86301836?type=stan...  "
      ]
     },
     "execution_count": 3,
     "metadata": {},
     "output_type": "execute_result"
    }
   ],
   "source": [
    "df = pd.read_csv(\"C:\\\\Users\\\\lubab\\\\OneDrive\\\\Documents\\\\Data Science Portfolio Projects\\\\Healthcare Data Anayst Jobs Australia\\\\healthcare-data-analyst-jobs-australia\\\\data\\\\raw\\\\healthcare_jobs.csv\")\n",
    "df.head(5)"
   ]
  },
  {
   "cell_type": "code",
   "execution_count": 22,
   "id": "c9b42829-ae59-41b2-882a-2bc70ec4213e",
   "metadata": {},
   "outputs": [],
   "source": [
    "#list of job ad URLs to loop through\n",
    "jobAd_urls = df['Link'].tolist()\n",
    "\n",
    "#list of full descriptions\n",
    "full_descriptions = []\n",
    "\n",
    "service = Service(GeckoDriverManager().install())\n",
    "driver = webdriver.Firefox(service=service)\n",
    "\n",
    "for url in jobAd_urls:\n",
    "    try:\n",
    "        driver.get(url)\n",
    "        html = driver.page_source\n",
    "        soup = BeautifulSoup(html, \"html.parser\")\n",
    "        #extracting the full descriptions\n",
    "        full_desc = soup.find(\"div\", {\"data-automation\": \"jobAdDetails\"})\n",
    "\n",
    "        if full_desc:\n",
    "            details = full_desc.get_text(separator=\"\\n\", strip=True)\n",
    "        else:\n",
    "            details = \"Job description not found or job no longer advertised\"\n",
    "\n",
    "    except Exception as e:\n",
    "        # Catch any unexpected error and store a placeholder\n",
    "        print(f\"Error with link {link}: {e}\")\n",
    "        details = \"Error loading job page\"\n",
    "    \n",
    "    \n",
    "    full_descriptions.append(details)\n",
    "\n",
    "\n",
    "driver.quit()\n",
    "df[\"full description\"] = full_descriptions"
   ]
  },
  {
   "cell_type": "code",
   "execution_count": 26,
   "id": "d5a16ff5-153f-4a5b-80bd-9da9d80ae7f2",
   "metadata": {},
   "outputs": [
    {
     "name": "stdout",
     "output_type": "stream",
     "text": [
      "Data saved to C:\\Users\\lubab\\OneDrive\\Documents\\Data Science Portfolio Projects\\Healthcare Data Anayst Jobs Australia\\healthcare-data-analyst-jobs-australia\\data\\raw\\healthcare_jobs_full.csv\n"
     ]
    }
   ],
   "source": [
    "# Define your target folder\n",
    "folder_path = \"C:\\\\Users\\\\lubab\\\\OneDrive\\\\Documents\\\\Data Science Portfolio Projects\\\\Healthcare Data Anayst Jobs Australia\\\\healthcare-data-analyst-jobs-australia\\\\data\\\\raw\"\n",
    "\n",
    "# Make sure the folder exists (optional but recommended)\n",
    "os.makedirs(folder_path, exist_ok=True)\n",
    "\n",
    "# Full file path\n",
    "file_path = os.path.join(folder_path, \"healthcare_jobs_full.csv\")\n",
    "\n",
    "# Save CSV\n",
    "df.to_csv(file_path, index=False, encoding=\"utf-8-sig\")\n",
    "\n",
    "print(f\"Data saved to {file_path}\")"
   ]
  }
 ],
 "metadata": {
  "kernelspec": {
   "display_name": "Python 3 (ipykernel)",
   "language": "python",
   "name": "python3"
  },
  "language_info": {
   "codemirror_mode": {
    "name": "ipython",
    "version": 3
   },
   "file_extension": ".py",
   "mimetype": "text/x-python",
   "name": "python",
   "nbconvert_exporter": "python",
   "pygments_lexer": "ipython3",
   "version": "3.12.4"
  }
 },
 "nbformat": 4,
 "nbformat_minor": 5
}
