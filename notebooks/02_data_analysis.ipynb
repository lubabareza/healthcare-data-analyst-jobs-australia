{
 "cells": [
  {
   "cell_type": "code",
   "execution_count": 163,
   "id": "f2c59cf5-7026-4191-8900-1c2f7a2cbb12",
   "metadata": {},
   "outputs": [
    {
     "name": "stderr",
     "output_type": "stream",
     "text": [
      "[nltk_data] Downloading package punkt to\n",
      "[nltk_data]     C:\\Users\\lubab\\AppData\\Roaming\\nltk_data...\n",
      "[nltk_data]   Package punkt is already up-to-date!\n",
      "[nltk_data] Downloading package stopwords to\n",
      "[nltk_data]     C:\\Users\\lubab\\AppData\\Roaming\\nltk_data...\n",
      "[nltk_data]   Package stopwords is already up-to-date!\n"
     ]
    }
   ],
   "source": [
    "import pandas as pd\n",
    "import numpy as np\n",
    "import os\n",
    "import seaborn as sns\n",
    "import plotly.express as px\n",
    "import matplotlib.pyplot as plt \n",
    "import re\n",
    "from sklearn.feature_extraction.text import CountVectorizer\n",
    "from nltk.corpus import stopwords\n",
    "from nltk.tokenize import word_tokenize\n",
    "import nltk\n",
    "nltk.download('punkt')\n",
    "nltk.download('stopwords')\n",
    "from collections import Counter"
   ]
  },
  {
   "cell_type": "code",
   "execution_count": 165,
   "id": "80986be6-9647-4628-ab87-a0f3aac44cb1",
   "metadata": {},
   "outputs": [
    {
     "data": {
      "text/plain": [
       "110"
      ]
     },
     "execution_count": 165,
     "metadata": {},
     "output_type": "execute_result"
    }
   ],
   "source": [
    "data = pd.read_csv(\"C:\\\\Users\\\\lubab\\\\OneDrive\\\\Documents\\\\Data Science Portfolio Projects\\\\Healthcare Data Anayst Jobs Australia\\\\healthcare-data-analyst-jobs-australia\\\\data\\\\raw\\\\healthcare_jobs_full.csv\")\n",
    "len(data)"
   ]
  },
  {
   "cell_type": "code",
   "execution_count": 167,
   "id": "513c5171-aaef-46f2-bfd2-c8f97bc3ecfe",
   "metadata": {},
   "outputs": [
    {
     "data": {
      "text/plain": [
       "103"
      ]
     },
     "execution_count": 167,
     "metadata": {},
     "output_type": "execute_result"
    }
   ],
   "source": [
    "#removing expired jobs \n",
    "data = data[data['full description'] != 'Job description not found or job no longer advertised']\n",
    "len(data)"
   ]
  },
  {
   "cell_type": "code",
   "execution_count": 169,
   "id": "3b4f161e-936b-4c33-90f2-39bc38ad0838",
   "metadata": {},
   "outputs": [
    {
     "data": {
      "text/plain": [
       "103"
      ]
     },
     "execution_count": 169,
     "metadata": {},
     "output_type": "execute_result"
    }
   ],
   "source": [
    "data = data.drop_duplicates()\n",
    "len(data)"
   ]
  },
  {
   "cell_type": "code",
   "execution_count": 171,
   "id": "f40bf1e4-c309-4a46-b58a-bbe64f3d9204",
   "metadata": {},
   "outputs": [
    {
     "name": "stdout",
     "output_type": "stream",
     "text": [
      "Index(['Title', 'Company', 'Location', 'Short Description', 'Link',\n",
      "       'full description'],\n",
      "      dtype='object')\n"
     ]
    }
   ],
   "source": [
    "data.shape\n",
    "print(data.columns)"
   ]
  },
  {
   "cell_type": "code",
   "execution_count": 173,
   "id": "1e752dc4-d985-464a-853c-ed42d70caaac",
   "metadata": {},
   "outputs": [
    {
     "data": {
      "text/plain": [
       "0    Location:\\nSunshine Hospital\\nEmployment Type:...\n",
       "1    We're Hiring: Population Health Data Analyst\\n...\n",
       "2    Location:\\nWilliamstown Hospital\\nEmployment T...\n",
       "Name: full description, dtype: object"
      ]
     },
     "execution_count": 173,
     "metadata": {},
     "output_type": "execute_result"
    }
   ],
   "source": [
    "data['full description'].head(3)"
   ]
  },
  {
   "cell_type": "code",
   "execution_count": 175,
   "id": "8a08c6ee-97c9-4e02-ad4d-da21a080063e",
   "metadata": {},
   "outputs": [
    {
     "data": {
      "text/plain": [
       "0    location:\\nsunshine hospital\\nemployment type:...\n",
       "1    we're hiring: population health data analyst\\n...\n",
       "2    location:\\nwilliamstown hospital\\nemployment t...\n",
       "Name: full description, dtype: object"
      ]
     },
     "execution_count": 175,
     "metadata": {},
     "output_type": "execute_result"
    }
   ],
   "source": [
    "#turning everything into lowercase\n",
    "data['full description'] = data['full description'].str.lower()\n",
    "data['full description'].head(3)"
   ]
  },
  {
   "cell_type": "code",
   "execution_count": 177,
   "id": "91bb63f5-91cd-44ed-8b39-88ee1070732c",
   "metadata": {},
   "outputs": [
    {
     "data": {
      "text/html": [
       "<div>\n",
       "<style scoped>\n",
       "    .dataframe tbody tr th:only-of-type {\n",
       "        vertical-align: middle;\n",
       "    }\n",
       "\n",
       "    .dataframe tbody tr th {\n",
       "        vertical-align: top;\n",
       "    }\n",
       "\n",
       "    .dataframe thead th {\n",
       "        text-align: right;\n",
       "    }\n",
       "</style>\n",
       "<table border=\"1\" class=\"dataframe\">\n",
       "  <thead>\n",
       "    <tr style=\"text-align: right;\">\n",
       "      <th></th>\n",
       "      <th>Title</th>\n",
       "      <th>Company</th>\n",
       "      <th>Location</th>\n",
       "      <th>Short Description</th>\n",
       "      <th>Link</th>\n",
       "      <th>full description</th>\n",
       "    </tr>\n",
       "  </thead>\n",
       "  <tbody>\n",
       "    <tr>\n",
       "      <th>0</th>\n",
       "      <td>Data Analyst</td>\n",
       "      <td>Western Health</td>\n",
       "      <td>St Albans</td>\n",
       "      <td>A unique opportunity exists to join the Wester...</td>\n",
       "      <td>https://www.seek.com.au/job/86244018?type=stan...</td>\n",
       "      <td>location:\\nsunshine hospital\\nemployment type:...</td>\n",
       "    </tr>\n",
       "    <tr>\n",
       "      <th>1</th>\n",
       "      <td>Population Health Data Analyst</td>\n",
       "      <td>South Eastern Melbourne Primary Health Network</td>\n",
       "      <td>Heatherton</td>\n",
       "      <td>Analyse data to drive population health planning</td>\n",
       "      <td>https://www.seek.com.au/job/86312389?type=stan...</td>\n",
       "      <td>we're hiring: population health data analyst\\n...</td>\n",
       "    </tr>\n",
       "    <tr>\n",
       "      <th>2</th>\n",
       "      <td>Data Analyst</td>\n",
       "      <td>Western Health</td>\n",
       "      <td>Williamstown</td>\n",
       "      <td>Drive data-driven insights and improve organis...</td>\n",
       "      <td>https://www.seek.com.au/job/86238954?type=stan...</td>\n",
       "      <td>location:\\nwilliamstown hospital\\nemployment t...</td>\n",
       "    </tr>\n",
       "    <tr>\n",
       "      <th>3</th>\n",
       "      <td>Data Analyst</td>\n",
       "      <td>Western Health</td>\n",
       "      <td>Footscray</td>\n",
       "      <td>Excellent data management and problem skills, ...</td>\n",
       "      <td>https://www.seek.com.au/job/86244700?type=stan...</td>\n",
       "      <td>about you:\\nexcellent data management and prob...</td>\n",
       "    </tr>\n",
       "    <tr>\n",
       "      <th>4</th>\n",
       "      <td>Senior Analyst</td>\n",
       "      <td>Alfred Health</td>\n",
       "      <td>Melbourne VIC</td>\n",
       "      <td>Permanent Full Time (1.0 EFT / 80 Hours) + ADO...</td>\n",
       "      <td>https://www.seek.com.au/job/86301836?type=stan...</td>\n",
       "      <td>alfred health\\nalfred health is a leader in he...</td>\n",
       "    </tr>\n",
       "  </tbody>\n",
       "</table>\n",
       "</div>"
      ],
      "text/plain": [
       "                            Title  \\\n",
       "0                    Data Analyst   \n",
       "1  Population Health Data Analyst   \n",
       "2                    Data Analyst   \n",
       "3                    Data Analyst   \n",
       "4                  Senior Analyst   \n",
       "\n",
       "                                          Company       Location  \\\n",
       "0                                  Western Health      St Albans   \n",
       "1  South Eastern Melbourne Primary Health Network     Heatherton   \n",
       "2                                  Western Health   Williamstown   \n",
       "3                                  Western Health      Footscray   \n",
       "4                                   Alfred Health  Melbourne VIC   \n",
       "\n",
       "                                   Short Description  \\\n",
       "0  A unique opportunity exists to join the Wester...   \n",
       "1   Analyse data to drive population health planning   \n",
       "2  Drive data-driven insights and improve organis...   \n",
       "3  Excellent data management and problem skills, ...   \n",
       "4  Permanent Full Time (1.0 EFT / 80 Hours) + ADO...   \n",
       "\n",
       "                                                Link  \\\n",
       "0  https://www.seek.com.au/job/86244018?type=stan...   \n",
       "1  https://www.seek.com.au/job/86312389?type=stan...   \n",
       "2  https://www.seek.com.au/job/86238954?type=stan...   \n",
       "3  https://www.seek.com.au/job/86244700?type=stan...   \n",
       "4  https://www.seek.com.au/job/86301836?type=stan...   \n",
       "\n",
       "                                    full description  \n",
       "0  location:\\nsunshine hospital\\nemployment type:...  \n",
       "1  we're hiring: population health data analyst\\n...  \n",
       "2  location:\\nwilliamstown hospital\\nemployment t...  \n",
       "3  about you:\\nexcellent data management and prob...  \n",
       "4  alfred health\\nalfred health is a leader in he...  "
      ]
     },
     "execution_count": 177,
     "metadata": {},
     "output_type": "execute_result"
    }
   ],
   "source": [
    "data.head()"
   ]
  },
  {
   "cell_type": "code",
   "execution_count": 179,
   "id": "80776f13-ede6-465b-a666-2cc681a0e96f",
   "metadata": {},
   "outputs": [
    {
     "data": {
      "text/plain": [
       "0    location: sunshine hospital employment type: f...\n",
       "1    we're hiring: population health data analyst l...\n",
       "2    location: williamstown hospital employment typ...\n",
       "Name: full description, dtype: object"
      ]
     },
     "execution_count": 179,
     "metadata": {},
     "output_type": "execute_result"
    }
   ],
   "source": [
    "#removing whitespace\n",
    "data['full description'] = data['full description'].apply(lambda x: re.sub(r'\\s+', ' ', str(x)).strip())\n",
    "data['full description'].head(3)"
   ]
  },
  {
   "cell_type": "code",
   "execution_count": 181,
   "id": "e0e4004c-8fd6-4932-a145-6f52cc81a023",
   "metadata": {},
   "outputs": [
    {
     "data": {
      "text/plain": [
       "0    location sunshine hospital employment type fix...\n",
       "1    were hiring population health data analyst loc...\n",
       "2    location williamstown hospital employment type...\n",
       "Name: full description, dtype: object"
      ]
     },
     "execution_count": 181,
     "metadata": {},
     "output_type": "execute_result"
    }
   ],
   "source": [
    "#removing punctuation\n",
    "data['full description'] = data['full description'].apply(lambda x: re.sub(r'[^\\w\\s]', '', str(x)).strip())\n",
    "data['full description'].head(3)"
   ]
  },
  {
   "cell_type": "code",
   "execution_count": 183,
   "id": "2dce6f57-7a05-45de-93b7-58d22804285a",
   "metadata": {},
   "outputs": [],
   "source": [
    "#tokenizing sentences\n",
    "data['tokenized_sent'] = data['full description'].apply(lambda x: word_tokenize(str(x))) \n",
    "\n",
    "#removing stop words\n",
    "stop_words = set(stopwords.words('english'))\n",
    "data['token_no_stopwords'] = data['tokenized_sent'].apply(lambda x: [word for word in x if word not in stop_words])"
   ]
  },
  {
   "cell_type": "code",
   "execution_count": 185,
   "id": "94978473-9dfe-4068-989b-8c6f27c8f31f",
   "metadata": {},
   "outputs": [
    {
     "name": "stdout",
     "output_type": "stream",
     "text": [
      "Total tokens collected: 39404\n",
      "First 20 tokens: ['location', 'sunshine', 'hospital', 'employment', 'type', 'fixed', 'term', 'full', 'time', '4', 'september', '2026', 'salary', 'hs5', 'role', 'western', 'public', 'health', 'unit', 'wphu']\n"
     ]
    }
   ],
   "source": [
    "#flattening token_no_stopwords column\n",
    "all_tokens = [token for tokens in data['token_no_stopwords'] for token in tokens]\n",
    "data['token_no_stopwords']\n",
    "print(\"Total tokens collected:\", len(all_tokens))\n",
    "print(\"First 20 tokens:\", all_tokens[:20])"
   ]
  },
  {
   "cell_type": "code",
   "execution_count": 187,
   "id": "c1979dd2-a419-4117-9276-99460e0904fc",
   "metadata": {},
   "outputs": [
    {
     "name": "stdout",
     "output_type": "stream",
     "text": [
      "Number of unique words 5041\n",
      "10 most frequent words [('data', 627), ('health', 613), ('support', 322), ('work', 321), ('role', 293), ('experience', 289), ('team', 235), ('skills', 229), ('business', 211), ('including', 210), ('people', 205), ('research', 203), ('care', 189), ('working', 187), ('services', 173), ('across', 172), ('reporting', 171), ('development', 167), ('ability', 167), ('clinical', 164), ('healthcare', 159), ('information', 144), ('key', 139), ('apply', 137), ('management', 132), ('environment', 130), ('strong', 129), ('community', 127), ('service', 119), ('stakeholders', 117), ('quality', 117), ('please', 114), ('hospital', 113), ('analysis', 113), ('position', 112), ('us', 112), ('systems', 111), ('part', 110), ('insights', 109), ('opportunities', 105), ('performance', 105), ('join', 102), ('youll', 102), ('access', 99), ('applications', 98), ('salary', 96), ('provide', 93), ('diverse', 93), ('career', 91), ('opportunity', 91), ('outcomes', 91), ('leave', 90), ('required', 90), ('analyst', 89), ('staff', 89), ('benefits', 89), ('program', 88), ('range', 86), ('diversity', 85), ('within', 85), ('improvement', 84), ('teams', 83), ('reports', 82), ('ensure', 82), ('projects', 81), ('communication', 80), ('analytics', 80), ('culture', 80), ('time', 79), ('committed', 79), ('strategic', 78), ('western', 75), ('power', 75), ('complex', 75), ('analytical', 74), ('planning', 74), ('new', 74), ('project', 74), ('tools', 73), ('solutions', 72), ('demonstrated', 71), ('wellbeing', 70), ('bi', 70), ('relevant', 70), ('system', 69), ('delivery', 69), ('make', 69), ('employee', 69), ('develop', 68), ('flexible', 68), ('requirements', 67), ('public', 66), ('organisation', 66), ('knowledge', 66), ('contribute', 66), ('operational', 65), ('external', 64), ('deliver', 64), ('professional', 63), ('australian', 63), ('lead', 63), ('workforce', 62), ('understanding', 61), ('policy', 61), ('maintain', 60), ('excellent', 60), ('initiatives', 60), ('processes', 59), ('providing', 58), ('manager', 58), ('manage', 57), ('patient', 57), ('australia', 57), ('supporting', 56), ('inclusive', 56), ('needs', 55), ('also', 55), ('collaborative', 55), ('one', 54), ('identify', 54), ('process', 54), ('safe', 53), ('digital', 53), ('build', 53), ('responsibilities', 52), ('internal', 52), ('inclusion', 52), ('patients', 51), ('programs', 51), ('impact', 51), ('offer', 51), ('activities', 50), ('design', 50), ('improve', 50), ('encourage', 50), ('delivering', 50), ('better', 50), ('workplace', 50), ('sql', 49), ('description', 49), ('application', 49), ('learning', 48), ('packaging', 48), ('customer', 48), ('training', 48), ('proven', 47), ('continuous', 47), ('growth', 47), ('aboriginal', 47), ('safety', 47), ('collaborate', 46), ('medical', 46), ('passionate', 45), ('values', 45), ('full', 44), ('using', 44), ('recruitment', 44), ('technical', 44), ('help', 44), ('looking', 44), ('national', 44), ('include', 43), ('ensuring', 43), ('years', 43), ('employees', 43), ('torres', 42), ('strait', 42), ('supportive', 42), ('centre', 41), ('organisational', 41), ('assist', 41), ('high', 41), ('sector', 41), ('governance', 41), ('drive', 41), ('use', 40), ('office', 40), ('multiple', 40), ('options', 39), ('may', 39), ('technology', 39), ('youre', 39), ('best', 39), ('issues', 38), ('meet', 38), ('highquality', 38), ('meaningful', 38), ('via', 38), ('operations', 38), ('decisionmaking', 38), ('dashboards', 38), ('integrity', 38), ('assistance', 38), ('engagement', 38), ('financial', 38), ('stakeholder', 38), ('microsoft', 37), ('innovative', 37), ('employer', 37), ('effective', 37)]\n"
     ]
    }
   ],
   "source": [
    "#counting all words\n",
    "word_freq = Counter(all_tokens)\n",
    "\n",
    "#number of unique words\n",
    "print(\"Number of unique words\", len(word_freq))\n",
    "print(\"10 most frequent words\", word_freq.most_common(200))"
   ]
  },
  {
   "cell_type": "code",
   "execution_count": 189,
   "id": "0950ae3c-668d-4d93-ba28-a501d05ad54e",
   "metadata": {},
   "outputs": [
    {
     "name": "stdout",
     "output_type": "stream",
     "text": [
      "            Skill  Frequency\n",
      "0       reporting        171\n",
      "1   communication         80\n",
      "2             sql         49\n",
      "3      dashboards         38\n",
      "4           excel         33\n",
      "5          python         14\n",
      "6           azure         13\n",
      "7               r         12\n",
      "8      statistics          8\n",
      "9         tableau          7\n",
      "10           epic          7\n",
      "11      dashboard          5\n",
      "12        powerbi          4\n",
      "13            sas          4\n",
      "14            aws          4\n",
      "15  visualization          4\n"
     ]
    }
   ],
   "source": [
    "#searching for specific skills \n",
    "technical_skills_list = [\"python\", \"sql\", \"powerbi\", \"tableau\", \"excel\", \"sas\", \"r\", \"stata\", \"azure\", \"aws\", \"statistics\", \"visualization\", \"reporting\", \"epic\", \"dashboard\", \"dashboards\", \"communication\"]\n",
    "\n",
    "skill_freq = {skill: word_freq[skill] for skill in technical_skills_list if skill in word_freq}\n",
    "skill_freq_df = pd.DataFrame(list(skill_freq.items()), columns=[\"Skill\", \"Frequency\"])\n",
    "\n",
    "skill_freq_df = skill_freq_df.sort_values(by=\"Frequency\", ascending=False).reset_index(drop=True)\n",
    "print(skill_freq_df)"
   ]
  },
  {
   "cell_type": "code",
   "execution_count": 191,
   "id": "8e06e945-3a02-444a-b244-8c0c3801775a",
   "metadata": {},
   "outputs": [
    {
     "data": {
      "text/plain": [
       "<Axes: xlabel='Frequency', ylabel='Skill'>"
      ]
     },
     "execution_count": 191,
     "metadata": {},
     "output_type": "execute_result"
    },
    {
     "data": {
      "image/png": "[encoded data removed]",
      "text/plain": [
       "<Figure size 600x600 with 1 Axes>"
      ]
     },
     "metadata": {},
     "output_type": "display_data"
    }
   ],
   "source": [
    "#seaborn bar chart\n",
    "sns.set_style(\"whitegrid\")\n",
    "sns.set_context(\"notebook\")\n",
    "sns.set_palette(\"pastel\")\n",
    "plt.figure(figsize=(6, 6))\n",
    "sns.barplot(skill_freq_df, x=\"Frequency\", y=\"Skill\", hue = \"Skill\")"
   ]
  },
  {
   "cell_type": "code",
   "execution_count": 193,
   "id": "f0ebabea-b37c-4756-a1fb-f6e2f9f03c68",
   "metadata": {},
   "outputs": [
    {
     "data": {
      "application/vnd.plotly.v1+json": {
       "config": {
        "plotlyServerURL": "https://plot.ly"
       },
       "data": [
        {
         "alignmentgroup": "True",
         "hovertemplate": "Skill=%{y}<br>Frequency=%{x}<extra></extra>",
         "legendgroup": "reporting",
         "marker": {
          "color": "rgb(102, 197, 204)",
          "pattern": {
           "shape": ""
          }
         },
         "name": "reporting",
         "offsetgroup": "reporting",
         "orientation": "h",
         "showlegend": true,
         "textposition": "auto",
         "type": "bar",
         "x": [
          171
         ],
         "xaxis": "x",
         "y": [
          "reporting"
         ],
         "yaxis": "y"
        },
        {
         "alignmentgroup": "True",
         "hovertemplate": "Skill=%{y}<br>Frequency=%{x}<extra></extra>",
         "legendgroup": "communication",
         "marker": {
          "color": "rgb(246, 207, 113)",
          "pattern": {
           "shape": ""
          }
         },
         "name": "communication",
         "offsetgroup": "communication",
         "orientation": "h",
         "showlegend": true,
         "textposition": "auto",
         "type": "bar",
         "x": [
          80
         ],
         "xaxis": "x",
         "y": [
          "communication"
         ],
         "yaxis": "y"
        },
        {
         "alignmentgroup": "True",
         "hovertemplate": "Skill=%{y}<br>Frequency=%{x}<extra></extra>",
         "legendgroup": "sql",
         "marker": {
          "color": "rgb(248, 156, 116)",
          "pattern": {
           "shape": ""
          }
         },
         "name": "sql",
         "offsetgroup": "sql",
         "orientation": "h",
         "showlegend": true,
         "textposition": "auto",
         "type": "bar",
         "x": [
          49
         ],
         "xaxis": "x",
         "y": [
          "sql"
         ],
         "yaxis": "y"
        },
        {
         "alignmentgroup": "True",
         "hovertemplate": "Skill=%{y}<br>Frequency=%{x}<extra></extra>",
         "legendgroup": "dashboards",
         "marker": {
          "color": "rgb(220, 176, 242)",
          "pattern": {
           "shape": ""
          }
         },
         "name": "dashboards",
         "offsetgroup": "dashboards",
         "orientation": "h",
         "showlegend": true,
         "textposition": "auto",
         "type": "bar",
         "x": [
          38
         ],
         "xaxis": "x",
         "y": [
          "dashboards"
         ],
         "yaxis": "y"
        },
        {
         "alignmentgroup": "True",
         "hovertemplate": "Skill=%{y}<br>Frequency=%{x}<extra></extra>",
         "legendgroup": "excel",
         "marker": {
          "color": "rgb(135, 197, 95)",
          "pattern": {
           "shape": ""
          }
         },
         "name": "excel",
         "offsetgroup": "excel",
         "orientation": "h",
         "showlegend": true,
         "textposition": "auto",
         "type": "bar",
         "x": [
          33
         ],
         "xaxis": "x",
         "y": [
          "excel"
         ],
         "yaxis": "y"
        },
        {
         "alignmentgroup": "True",
         "hovertemplate": "Skill=%{y}<br>Frequency=%{x}<extra></extra>",
         "legendgroup": "python",
         "marker": {
          "color": "rgb(158, 185, 243)",
          "pattern": {
           "shape": ""
          }
         },
         "name": "python",
         "offsetgroup": "python",
         "orientation": "h",
         "showlegend": true,
         "textposition": "auto",
         "type": "bar",
         "x": [
          14
         ],
         "xaxis": "x",
         "y": [
          "python"
         ],
         "yaxis": "y"
        },
        {
         "alignmentgroup": "True",
         "hovertemplate": "Skill=%{y}<br>Frequency=%{x}<extra></extra>",
         "legendgroup": "azure",
         "marker": {
          "color": "rgb(254, 136, 177)",
          "pattern": {
           "shape": ""
          }
         },
         "name": "azure",
         "offsetgroup": "azure",
         "orientation": "h",
         "showlegend": true,
         "textposition": "auto",
         "type": "bar",
         "x": [
          13
         ],
         "xaxis": "x",
         "y": [
          "azure"
         ],
         "yaxis": "y"
        },
        {
         "alignmentgroup": "True",
         "hovertemplate": "Skill=%{y}<br>Frequency=%{x}<extra></extra>",
         "legendgroup": "r",
         "marker": {
          "color": "rgb(201, 219, 116)",
          "pattern": {
           "shape": ""
          }
         },
         "name": "r",
         "offsetgroup": "r",
         "orientation": "h",
         "showlegend": true,
         "textposition": "auto",
         "type": "bar",
         "x": [
          12
         ],
         "xaxis": "x",
         "y": [
          "r"
         ],
         "yaxis": "y"
        },
        {
         "alignmentgroup": "True",
         "hovertemplate": "Skill=%{y}<br>Frequency=%{x}<extra></extra>",
         "legendgroup": "statistics",
         "marker": {
          "color": "rgb(139, 224, 164)",
          "pattern": {
           "shape": ""
          }
         },
         "name": "statistics",
         "offsetgroup": "statistics",
         "orientation": "h",
         "showlegend": true,
         "textposition": "auto",
         "type": "bar",
         "x": [
          8
         ],
         "xaxis": "x",
         "y": [
          "statistics"
         ],
         "yaxis": "y"
        },
        {
         "alignmentgroup": "True",
         "hovertemplate": "Skill=%{y}<br>Frequency=%{x}<extra></extra>",
         "legendgroup": "tableau",
         "marker": {
          "color": "rgb(180, 151, 231)",
          "pattern": {
           "shape": ""
          }
         },
         "name": "tableau",
         "offsetgroup": "tableau",
         "orientation": "h",
         "showlegend": true,
         "textposition": "auto",
         "type": "bar",
         "x": [
          7
         ],
         "xaxis": "x",
         "y": [
          "tableau"
         ],
         "yaxis": "y"
        },
        {
         "alignmentgroup": "True",
         "hovertemplate": "Skill=%{y}<br>Frequency=%{x}<extra></extra>",
         "legendgroup": "epic",
         "marker": {
          "color": "rgb(179, 179, 179)",
          "pattern": {
           "shape": ""
          }
         },
         "name": "epic",
         "offsetgroup": "epic",
         "orientation": "h",
         "showlegend": true,
         "textposition": "auto",
         "type": "bar",
         "x": [
          7
         ],
         "xaxis": "x",
         "y": [
          "epic"
         ],
         "yaxis": "y"
        },
        {
         "alignmentgroup": "True",
         "hovertemplate": "Skill=%{y}<br>Frequency=%{x}<extra></extra>",
         "legendgroup": "dashboard",
         "marker": {
          "color": "rgb(102, 197, 204)",
          "pattern": {
           "shape": ""
          }
         },
         "name": "dashboard",
         "offsetgroup": "dashboard",
         "orientation": "h",
         "showlegend": true,
         "textposition": "auto",
         "type": "bar",
         "x": [
          5
         ],
         "xaxis": "x",
         "y": [
          "dashboard"
         ],
         "yaxis": "y"
        },
        {
         "alignmentgroup": "True",
         "hovertemplate": "Skill=%{y}<br>Frequency=%{x}<extra></extra>",
         "legendgroup": "powerbi",
         "marker": {
          "color": "rgb(246, 207, 113)",
          "pattern": {
           "shape": ""
          }
         },
         "name": "powerbi",
         "offsetgroup": "powerbi",
         "orientation": "h",
         "showlegend": true,
         "textposition": "auto",
         "type": "bar",
         "x": [
          4
         ],
         "xaxis": "x",
         "y": [
          "powerbi"
         ],
         "yaxis": "y"
        },
        {
         "alignmentgroup": "True",
         "hovertemplate": "Skill=%{y}<br>Frequency=%{x}<extra></extra>",
         "legendgroup": "sas",
         "marker": {
          "color": "rgb(248, 156, 116)",
          "pattern": {
           "shape": ""
          }
         },
         "name": "sas",
         "offsetgroup": "sas",
         "orientation": "h",
         "showlegend": true,
         "textposition": "auto",
         "type": "bar",
         "x": [
          4
         ],
         "xaxis": "x",
         "y": [
          "sas"
         ],
         "yaxis": "y"
        },
        {
         "alignmentgroup": "True",
         "hovertemplate": "Skill=%{y}<br>Frequency=%{x}<extra></extra>",
         "legendgroup": "aws",
         "marker": {
          "color": "rgb(220, 176, 242)",
          "pattern": {
           "shape": ""
          }
         },
         "name": "aws",
         "offsetgroup": "aws",
         "orientation": "h",
         "showlegend": true,
         "textposition": "auto",
         "type": "bar",
         "x": [
          4
         ],
         "xaxis": "x",
         "y": [
          "aws"
         ],
         "yaxis": "y"
        },
        {
         "alignmentgroup": "True",
         "hovertemplate": "Skill=%{y}<br>Frequency=%{x}<extra></extra>",
         "legendgroup": "visualization",
         "marker": {
          "color": "rgb(135, 197, 95)",
          "pattern": {
           "shape": ""
          }
         },
         "name": "visualization",
         "offsetgroup": "visualization",
         "orientation": "h",
         "showlegend": true,
         "textposition": "auto",
         "type": "bar",
         "x": [
          4
         ],
         "xaxis": "x",
         "y": [
          "visualization"
         ],
         "yaxis": "y"
        }
       ],
       "layout": {
        "autosize": true,
        "barmode": "relative",
        "legend": {
         "title": {
          "text": "Skill"
         },
         "tracegroupgap": 0
        },
        "margin": {
         "b": 40,
         "l": 80,
         "r": 40,
         "t": 60
        },
        "template": {
         "data": {
          "bar": [
           {
            "error_x": {
             "color": "#2a3f5f"
            },
            "error_y": {
             "color": "#2a3f5f"
            },
            "marker": {
             "line": {
              "color": "white",
              "width": 0.5
             },
             "pattern": {
              "fillmode": "overlay",
              "size": 10,
              "solidity": 0.2
             }
            },
            "type": "bar"
           }
          ],
          "barpolar": [
           {
            "marker": {
             "line": {
              "color": "white",
              "width": 0.5
             },
             "pattern": {
              "fillmode": "overlay",
              "size": 10,
              "solidity": 0.2
             }
            },
            "type": "barpolar"
           }
          ],
          "carpet": [
           {
            "aaxis": {
             "endlinecolor": "#2a3f5f",
             "gridcolor": "#C8D4E3",
             "linecolor": "#C8D4E3",
             "minorgridcolor": "#C8D4E3",
             "startlinecolor": "#2a3f5f"
            },
            "baxis": {
             "endlinecolor": "#2a3f5f",
             "gridcolor": "#C8D4E3",
             "linecolor": "#C8D4E3",
             "minorgridcolor": "#C8D4E3",
             "startlinecolor": "#2a3f5f"
            },
            "type": "carpet"
           }
          ],
          "choropleth": [
           {
            "colorbar": {
             "outlinewidth": 0,
             "ticks": ""
            },
            "type": "choropleth"
           }
          ],
          "contour": [
           {
            "colorbar": {
             "outlinewidth": 0,
             "ticks": ""
            },
            "colorscale": [
             [
              0,
              "#0d0887"
             ],
             [
              0.1111111111111111,
              "#46039f"
             ],
             [
              0.2222222222222222,
              "#7201a8"
             ],
             [
              0.3333333333333333,
              "#9c179e"
             ],
             [
              0.4444444444444444,
              "#bd3786"
             ],
             [
              0.5555555555555556,
              "#d8576b"
             ],
             [
              0.6666666666666666,
              "#ed7953"
             ],
             [
              0.7777777777777778,
              "#fb9f3a"
             ],
             [
              0.8888888888888888,
              "#fdca26"
             ],
             [
              1,
              "#f0f921"
             ]
            ],
            "type": "contour"
           }
          ],
          "contourcarpet": [
           {
            "colorbar": {
             "outlinewidth": 0,
             "ticks": ""
            },
            "type": "contourcarpet"
           }
          ],
          "heatmap": [
           {
            "colorbar": {
             "outlinewidth": 0,
             "ticks": ""
            },
            "colorscale": [
             [
              0,
              "#0d0887"
             ],
             [
              0.1111111111111111,
              "#46039f"
             ],
             [
              0.2222222222222222,
              "#7201a8"
             ],
             [
              0.3333333333333333,
              "#9c179e"
             ],
             [
              0.4444444444444444,
              "#bd3786"
             ],
             [
              0.5555555555555556,
              "#d8576b"
             ],
             [
              0.6666666666666666,
              "#ed7953"
             ],
             [
              0.7777777777777778,
              "#fb9f3a"
             ],
             [
              0.8888888888888888,
              "#fdca26"
             ],
             [
              1,
              "#f0f921"
             ]
            ],
            "type": "heatmap"
           }
          ],
          "heatmapgl": [
           {
            "colorbar": {
             "outlinewidth": 0,
             "ticks": ""
            },
            "colorscale": [
             [
              0,
              "#0d0887"
             ],
             [
              0.1111111111111111,
              "#46039f"
             ],
             [
              0.2222222222222222,
              "#7201a8"
             ],
             [
              0.3333333333333333,
              "#9c179e"
             ],
             [
              0.4444444444444444,
              "#bd3786"
             ],
             [
              0.5555555555555556,
              "#d8576b"
             ],
             [
              0.6666666666666666,
              "#ed7953"
             ],
             [
              0.7777777777777778,
              "#fb9f3a"
             ],
             [
              0.8888888888888888,
              "#fdca26"
             ],
             [
              1,
              "#f0f921"
             ]
            ],
            "type": "heatmapgl"
           }
          ],
          "histogram": [
           {
            "marker": {
             "pattern": {
              "fillmode": "overlay",
              "size": 10,
              "solidity": 0.2
             }
            },
            "type": "histogram"
           }
          ],
          "histogram2d": [
           {
            "colorbar": {
             "outlinewidth": 0,
             "ticks": ""
            },
            "colorscale": [
             [
              0,
              "#0d0887"
             ],
             [
              0.1111111111111111,
              "#46039f"
             ],
             [
              0.2222222222222222,
              "#7201a8"
             ],
             [
              0.3333333333333333,
              "#9c179e"
             ],
             [
              0.4444444444444444,
              "#bd3786"
             ],
             [
              0.5555555555555556,
              "#d8576b"
             ],
             [
              0.6666666666666666,
              "#ed7953"
             ],
             [
              0.7777777777777778,
              "#fb9f3a"
             ],
             [
              0.8888888888888888,
              "#fdca26"
             ],
             [
              1,
              "#f0f921"
             ]
            ],
            "type": "histogram2d"
           }
          ],
          "histogram2dcontour": [
           {
            "colorbar": {
             "outlinewidth": 0,
             "ticks": ""
            },
            "colorscale": [
             [
              0,
              "#0d0887"
             ],
             [
              0.1111111111111111,
              "#46039f"
             ],
             [
              0.2222222222222222,
              "#7201a8"
             ],
             [
              0.3333333333333333,
              "#9c179e"
             ],
             [
              0.4444444444444444,
              "#bd3786"
             ],
             [
              0.5555555555555556,
              "#d8576b"
             ],
             [
              0.6666666666666666,
              "#ed7953"
             ],
             [
              0.7777777777777778,
              "#fb9f3a"
             ],
             [
              0.8888888888888888,
              "#fdca26"
             ],
             [
              1,
              "#f0f921"
             ]
            ],
            "type": "histogram2dcontour"
           }
          ],
          "mesh3d": [
           {
            "colorbar": {
             "outlinewidth": 0,
             "ticks": ""
            },
            "type": "mesh3d"
           }
          ],
          "parcoords": [
           {
            "line": {
             "colorbar": {
              "outlinewidth": 0,
              "ticks": ""
             }
            },
            "type": "parcoords"
           }
          ],
          "pie": [
           {
            "automargin": true,
            "type": "pie"
           }
          ],
          "scatter": [
           {
            "fillpattern": {
             "fillmode": "overlay",
             "size": 10,
             "solidity": 0.2
            },
            "type": "scatter"
           }
          ],
          "scatter3d": [
           {
            "line": {
             "colorbar": {
              "outlinewidth": 0,
              "ticks": ""
             }
            },
            "marker": {
             "colorbar": {
              "outlinewidth": 0,
              "ticks": ""
             }
            },
            "type": "scatter3d"
           }
          ],
          "scattercarpet": [
           {
            "marker": {
             "colorbar": {
              "outlinewidth": 0,
              "ticks": ""
             }
            },
            "type": "scattercarpet"
           }
          ],
          "scattergeo": [
           {
            "marker": {
             "colorbar": {
              "outlinewidth": 0,
              "ticks": ""
             }
            },
            "type": "scattergeo"
           }
          ],
          "scattergl": [
           {
            "marker": {
             "colorbar": {
              "outlinewidth": 0,
              "ticks": ""
             }
            },
            "type": "scattergl"
           }
          ],
          "scattermapbox": [
           {
            "marker": {
             "colorbar": {
              "outlinewidth": 0,
              "ticks": ""
             }
            },
            "type": "scattermapbox"
           }
          ],
          "scatterpolar": [
           {
            "marker": {
             "colorbar": {
              "outlinewidth": 0,
              "ticks": ""
             }
            },
            "type": "scatterpolar"
           }
          ],
          "scatterpolargl": [
           {
            "marker": {
             "colorbar": {
              "outlinewidth": 0,
              "ticks": ""
             }
            },
            "type": "scatterpolargl"
           }
          ],
          "scatterternary": [
           {
            "marker": {
             "colorbar": {
              "outlinewidth": 0,
              "ticks": ""
             }
            },
            "type": "scatterternary"
           }
          ],
          "surface": [
           {
            "colorbar": {
             "outlinewidth": 0,
             "ticks": ""
            },
            "colorscale": [
             [
              0,
              "#0d0887"
             ],
             [
              0.1111111111111111,
              "#46039f"
             ],
             [
              0.2222222222222222,
              "#7201a8"
             ],
             [
              0.3333333333333333,
              "#9c179e"
             ],
             [
              0.4444444444444444,
              "#bd3786"
             ],
             [
              0.5555555555555556,
              "#d8576b"
             ],
             [
              0.6666666666666666,
              "#ed7953"
             ],
             [
              0.7777777777777778,
              "#fb9f3a"
             ],
             [
              0.8888888888888888,
              "#fdca26"
             ],
             [
              1,
              "#f0f921"
             ]
            ],
            "type": "surface"
           }
          ],
          "table": [
           {
            "cells": {
             "fill": {
              "color": "#EBF0F8"
             },
             "line": {
              "color": "white"
             }
            },
            "header": {
             "fill": {
              "color": "#C8D4E3"
             },
             "line": {
              "color": "white"
             }
            },
            "type": "table"
           }
          ]
         },
         "layout": {
          "annotationdefaults": {
           "arrowcolor": "#2a3f5f",
           "arrowhead": 0,
           "arrowwidth": 1
          },
          "autotypenumbers": "strict",
          "coloraxis": {
           "colorbar": {
            "outlinewidth": 0,
            "ticks": ""
           }
          },
          "colorscale": {
           "diverging": [
            [
             0,
             "#8e0152"
            ],
            [
             0.1,
             "#c51b7d"
            ],
            [
             0.2,
             "#de77ae"
            ],
            [
             0.3,
             "#f1b6da"
            ],
            [
             0.4,
             "#fde0ef"
            ],
            [
             0.5,
             "#f7f7f7"
            ],
            [
             0.6,
             "#e6f5d0"
            ],
            [
             0.7,
             "#b8e186"
            ],
            [
             0.8,
             "#7fbc41"
            ],
            [
             0.9,
             "#4d9221"
            ],
            [
             1,
             "#276419"
            ]
           ],
           "sequential": [
            [
             0,
             "#0d0887"
            ],
            [
             0.1111111111111111,
             "#46039f"
            ],
            [
             0.2222222222222222,
             "#7201a8"
            ],
            [
             0.3333333333333333,
             "#9c179e"
            ],
            [
             0.4444444444444444,
             "#bd3786"
            ],
            [
             0.5555555555555556,
             "#d8576b"
            ],
            [
             0.6666666666666666,
             "#ed7953"
            ],
            [
             0.7777777777777778,
             "#fb9f3a"
            ],
            [
             0.8888888888888888,
             "#fdca26"
            ],
            [
             1,
             "#f0f921"
            ]
           ],
           "sequentialminus": [
            [
             0,
             "#0d0887"
            ],
            [
             0.1111111111111111,
             "#46039f"
            ],
            [
             0.2222222222222222,
             "#7201a8"
            ],
            [
             0.3333333333333333,
             "#9c179e"
            ],
            [
             0.4444444444444444,
             "#bd3786"
            ],
            [
             0.5555555555555556,
             "#d8576b"
            ],
            [
             0.6666666666666666,
             "#ed7953"
            ],
            [
             0.7777777777777778,
             "#fb9f3a"
            ],
            [
             0.8888888888888888,
             "#fdca26"
            ],
            [
             1,
             "#f0f921"
            ]
           ]
          },
          "colorway": [
           "#636efa",
           "#EF553B",
           "#00cc96",
           "#ab63fa",
           "#FFA15A",
           "#19d3f3",
           "#FF6692",
           "#B6E880",
           "#FF97FF",
           "#FECB52"
          ],
          "font": {
           "color": "#2a3f5f"
          },
          "geo": {
           "bgcolor": "white",
           "lakecolor": "white",
           "landcolor": "white",
           "showlakes": true,
           "showland": true,
           "subunitcolor": "#C8D4E3"
          },
          "hoverlabel": {
           "align": "left"
          },
          "hovermode": "closest",
          "mapbox": {
           "style": "light"
          },
          "paper_bgcolor": "white",
          "plot_bgcolor": "white",
          "polar": {
           "angularaxis": {
            "gridcolor": "#EBF0F8",
            "linecolor": "#EBF0F8",
            "ticks": ""
           },
           "bgcolor": "white",
           "radialaxis": {
            "gridcolor": "#EBF0F8",
            "linecolor": "#EBF0F8",
            "ticks": ""
           }
          },
          "scene": {
           "xaxis": {
            "backgroundcolor": "white",
            "gridcolor": "#DFE8F3",
            "gridwidth": 2,
            "linecolor": "#EBF0F8",
            "showbackground": true,
            "ticks": "",
            "zerolinecolor": "#EBF0F8"
           },
           "yaxis": {
            "backgroundcolor": "white",
            "gridcolor": "#DFE8F3",
            "gridwidth": 2,
            "linecolor": "#EBF0F8",
            "showbackground": true,
            "ticks": "",
            "zerolinecolor": "#EBF0F8"
           },
           "zaxis": {
            "backgroundcolor": "white",
            "gridcolor": "#DFE8F3",
            "gridwidth": 2,
            "linecolor": "#EBF0F8",
            "showbackground": true,
            "ticks": "",
            "zerolinecolor": "#EBF0F8"
           }
          },
          "shapedefaults": {
           "line": {
            "color": "#2a3f5f"
           }
          },
          "ternary": {
           "aaxis": {
            "gridcolor": "#DFE8F3",
            "linecolor": "#A2B1C6",
            "ticks": ""
           },
           "baxis": {
            "gridcolor": "#DFE8F3",
            "linecolor": "#A2B1C6",
            "ticks": ""
           },
           "bgcolor": "white",
           "caxis": {
            "gridcolor": "#DFE8F3",
            "linecolor": "#A2B1C6",
            "ticks": ""
           }
          },
          "title": {
           "x": 0.05
          },
          "xaxis": {
           "automargin": true,
           "gridcolor": "#EBF0F8",
           "linecolor": "#EBF0F8",
           "ticks": "",
           "title": {
            "standoff": 15
           },
           "zerolinecolor": "#EBF0F8",
           "zerolinewidth": 2
          },
          "yaxis": {
           "automargin": true,
           "gridcolor": "#EBF0F8",
           "linecolor": "#EBF0F8",
           "ticks": "",
           "title": {
            "standoff": 15
           },
           "zerolinecolor": "#EBF0F8",
           "zerolinewidth": 2
          }
         }
        },
        "xaxis": {
         "anchor": "y",
         "autorange": true,
         "domain": [
          0,
          1
         ],
         "gridcolor": "rgba(0, 0, 0, 0.1)",
         "range": [
          0,
          180
         ],
         "showgrid": true,
         "title": {
          "text": "Frequency"
         },
         "type": "linear"
        },
        "yaxis": {
         "anchor": "x",
         "autorange": true,
         "categoryarray": [
          "visualization",
          "aws",
          "sas",
          "powerbi",
          "dashboard",
          "epic",
          "tableau",
          "statistics",
          "r",
          "azure",
          "python",
          "excel",
          "dashboards",
          "sql",
          "communication",
          "reporting"
         ],
         "categoryorder": "total ascending",
         "domain": [
          0,
          1
         ],
         "range": [
          -0.5,
          15.5
         ],
         "title": {
          "text": "Skill"
         },
         "type": "category"
        }
       }
      },
      "image/png": "[encoded data removed]",
      "text/html": [
       "<div>                            <div id=\"38f30c39-e496-4ded-8b83-c71bc5095748\" class=\"plotly-graph-div\" style=\"height:600px; width:100%;\"></div>            <script type=\"text/javascript\">                require([\"plotly\"], function(Plotly) {                    window.PLOTLYENV=window.PLOTLYENV || {};                                    if (document.getElementById(\"38f30c39-e496-4ded-8b83-c71bc5095748\")) {                    Plotly.newPlot(                        \"38f30c39-e496-4ded-8b83-c71bc5095748\",                        [{\"alignmentgroup\":\"True\",\"hovertemplate\":\"Skill=%{y}\\u003cbr\\u003eFrequency=%{x}\\u003cextra\\u003e\\u003c\\u002fextra\\u003e\",\"legendgroup\":\"reporting\",\"marker\":{\"color\":\"rgb(102, 197, 204)\",\"pattern\":{\"shape\":\"\"}},\"name\":\"reporting\",\"offsetgroup\":\"reporting\",\"orientation\":\"h\",\"showlegend\":true,\"textposition\":\"auto\",\"x\":[171],\"xaxis\":\"x\",\"y\":[\"reporting\"],\"yaxis\":\"y\",\"type\":\"bar\"},{\"alignmentgroup\":\"True\",\"hovertemplate\":\"Skill=%{y}\\u003cbr\\u003eFrequency=%{x}\\u003cextra\\u003e\\u003c\\u002fextra\\u003e\",\"legendgroup\":\"communication\",\"marker\":{\"color\":\"rgb(246, 207, 113)\",\"pattern\":{\"shape\":\"\"}},\"name\":\"communication\",\"offsetgroup\":\"communication\",\"orientation\":\"h\",\"showlegend\":true,\"textposition\":\"auto\",\"x\":[80],\"xaxis\":\"x\",\"y\":[\"communication\"],\"yaxis\":\"y\",\"type\":\"bar\"},{\"alignmentgroup\":\"True\",\"hovertemplate\":\"Skill=%{y}\\u003cbr\\u003eFrequency=%{x}\\u003cextra\\u003e\\u003c\\u002fextra\\u003e\",\"legendgroup\":\"sql\",\"marker\":{\"color\":\"rgb(248, 156, 116)\",\"pattern\":{\"shape\":\"\"}},\"name\":\"sql\",\"offsetgroup\":\"sql\",\"orientation\":\"h\",\"showlegend\":true,\"textposition\":\"auto\",\"x\":[49],\"xaxis\":\"x\",\"y\":[\"sql\"],\"yaxis\":\"y\",\"type\":\"bar\"},{\"alignmentgroup\":\"True\",\"hovertemplate\":\"Skill=%{y}\\u003cbr\\u003eFrequency=%{x}\\u003cextra\\u003e\\u003c\\u002fextra\\u003e\",\"legendgroup\":\"dashboards\",\"marker\":{\"color\":\"rgb(220, 176, 242)\",\"pattern\":{\"shape\":\"\"}},\"name\":\"dashboards\",\"offsetgroup\":\"dashboards\",\"orientation\":\"h\",\"showlegend\":true,\"textposition\":\"auto\",\"x\":[38],\"xaxis\":\"x\",\"y\":[\"dashboards\"],\"yaxis\":\"y\",\"type\":\"bar\"},{\"alignmentgroup\":\"True\",\"hovertemplate\":\"Skill=%{y}\\u003cbr\\u003eFrequency=%{x}\\u003cextra\\u003e\\u003c\\u002fextra\\u003e\",\"legendgroup\":\"excel\",\"marker\":{\"color\":\"rgb(135, 197, 95)\",\"pattern\":{\"shape\":\"\"}},\"name\":\"excel\",\"offsetgroup\":\"excel\",\"orientation\":\"h\",\"showlegend\":true,\"textposition\":\"auto\",\"x\":[33],\"xaxis\":\"x\",\"y\":[\"excel\"],\"yaxis\":\"y\",\"type\":\"bar\"},{\"alignmentgroup\":\"True\",\"hovertemplate\":\"Skill=%{y}\\u003cbr\\u003eFrequency=%{x}\\u003cextra\\u003e\\u003c\\u002fextra\\u003e\",\"legendgroup\":\"python\",\"marker\":{\"color\":\"rgb(158, 185, 243)\",\"pattern\":{\"shape\":\"\"}},\"name\":\"python\",\"offsetgroup\":\"python\",\"orientation\":\"h\",\"showlegend\":true,\"textposition\":\"auto\",\"x\":[14],\"xaxis\":\"x\",\"y\":[\"python\"],\"yaxis\":\"y\",\"type\":\"bar\"},{\"alignmentgroup\":\"True\",\"hovertemplate\":\"Skill=%{y}\\u003cbr\\u003eFrequency=%{x}\\u003cextra\\u003e\\u003c\\u002fextra\\u003e\",\"legendgroup\":\"azure\",\"marker\":{\"color\":\"rgb(254, 136, 177)\",\"pattern\":{\"shape\":\"\"}},\"name\":\"azure\",\"offsetgroup\":\"azure\",\"orientation\":\"h\",\"showlegend\":true,\"textposition\":\"auto\",\"x\":[13],\"xaxis\":\"x\",\"y\":[\"azure\"],\"yaxis\":\"y\",\"type\":\"bar\"},{\"alignmentgroup\":\"True\",\"hovertemplate\":\"Skill=%{y}\\u003cbr\\u003eFrequency=%{x}\\u003cextra\\u003e\\u003c\\u002fextra\\u003e\",\"legendgroup\":\"r\",\"marker\":{\"color\":\"rgb(201, 219, 116)\",\"pattern\":{\"shape\":\"\"}},\"name\":\"r\",\"offsetgroup\":\"r\",\"orientation\":\"h\",\"showlegend\":true,\"textposition\":\"auto\",\"x\":[12],\"xaxis\":\"x\",\"y\":[\"r\"],\"yaxis\":\"y\",\"type\":\"bar\"},{\"alignmentgroup\":\"True\",\"hovertemplate\":\"Skill=%{y}\\u003cbr\\u003eFrequency=%{x}\\u003cextra\\u003e\\u003c\\u002fextra\\u003e\",\"legendgroup\":\"statistics\",\"marker\":{\"color\":\"rgb(139, 224, 164)\",\"pattern\":{\"shape\":\"\"}},\"name\":\"statistics\",\"offsetgroup\":\"statistics\",\"orientation\":\"h\",\"showlegend\":true,\"textposition\":\"auto\",\"x\":[8],\"xaxis\":\"x\",\"y\":[\"statistics\"],\"yaxis\":\"y\",\"type\":\"bar\"},{\"alignmentgroup\":\"True\",\"hovertemplate\":\"Skill=%{y}\\u003cbr\\u003eFrequency=%{x}\\u003cextra\\u003e\\u003c\\u002fextra\\u003e\",\"legendgroup\":\"tableau\",\"marker\":{\"color\":\"rgb(180, 151, 231)\",\"pattern\":{\"shape\":\"\"}},\"name\":\"tableau\",\"offsetgroup\":\"tableau\",\"orientation\":\"h\",\"showlegend\":true,\"textposition\":\"auto\",\"x\":[7],\"xaxis\":\"x\",\"y\":[\"tableau\"],\"yaxis\":\"y\",\"type\":\"bar\"},{\"alignmentgroup\":\"True\",\"hovertemplate\":\"Skill=%{y}\\u003cbr\\u003eFrequency=%{x}\\u003cextra\\u003e\\u003c\\u002fextra\\u003e\",\"legendgroup\":\"epic\",\"marker\":{\"color\":\"rgb(179, 179, 179)\",\"pattern\":{\"shape\":\"\"}},\"name\":\"epic\",\"offsetgroup\":\"epic\",\"orientation\":\"h\",\"showlegend\":true,\"textposition\":\"auto\",\"x\":[7],\"xaxis\":\"x\",\"y\":[\"epic\"],\"yaxis\":\"y\",\"type\":\"bar\"},{\"alignmentgroup\":\"True\",\"hovertemplate\":\"Skill=%{y}\\u003cbr\\u003eFrequency=%{x}\\u003cextra\\u003e\\u003c\\u002fextra\\u003e\",\"legendgroup\":\"dashboard\",\"marker\":{\"color\":\"rgb(102, 197, 204)\",\"pattern\":{\"shape\":\"\"}},\"name\":\"dashboard\",\"offsetgroup\":\"dashboard\",\"orientation\":\"h\",\"showlegend\":true,\"textposition\":\"auto\",\"x\":[5],\"xaxis\":\"x\",\"y\":[\"dashboard\"],\"yaxis\":\"y\",\"type\":\"bar\"},{\"alignmentgroup\":\"True\",\"hovertemplate\":\"Skill=%{y}\\u003cbr\\u003eFrequency=%{x}\\u003cextra\\u003e\\u003c\\u002fextra\\u003e\",\"legendgroup\":\"powerbi\",\"marker\":{\"color\":\"rgb(246, 207, 113)\",\"pattern\":{\"shape\":\"\"}},\"name\":\"powerbi\",\"offsetgroup\":\"powerbi\",\"orientation\":\"h\",\"showlegend\":true,\"textposition\":\"auto\",\"x\":[4],\"xaxis\":\"x\",\"y\":[\"powerbi\"],\"yaxis\":\"y\",\"type\":\"bar\"},{\"alignmentgroup\":\"True\",\"hovertemplate\":\"Skill=%{y}\\u003cbr\\u003eFrequency=%{x}\\u003cextra\\u003e\\u003c\\u002fextra\\u003e\",\"legendgroup\":\"sas\",\"marker\":{\"color\":\"rgb(248, 156, 116)\",\"pattern\":{\"shape\":\"\"}},\"name\":\"sas\",\"offsetgroup\":\"sas\",\"orientation\":\"h\",\"showlegend\":true,\"textposition\":\"auto\",\"x\":[4],\"xaxis\":\"x\",\"y\":[\"sas\"],\"yaxis\":\"y\",\"type\":\"bar\"},{\"alignmentgroup\":\"True\",\"hovertemplate\":\"Skill=%{y}\\u003cbr\\u003eFrequency=%{x}\\u003cextra\\u003e\\u003c\\u002fextra\\u003e\",\"legendgroup\":\"aws\",\"marker\":{\"color\":\"rgb(220, 176, 242)\",\"pattern\":{\"shape\":\"\"}},\"name\":\"aws\",\"offsetgroup\":\"aws\",\"orientation\":\"h\",\"showlegend\":true,\"textposition\":\"auto\",\"x\":[4],\"xaxis\":\"x\",\"y\":[\"aws\"],\"yaxis\":\"y\",\"type\":\"bar\"},{\"alignmentgroup\":\"True\",\"hovertemplate\":\"Skill=%{y}\\u003cbr\\u003eFrequency=%{x}\\u003cextra\\u003e\\u003c\\u002fextra\\u003e\",\"legendgroup\":\"visualization\",\"marker\":{\"color\":\"rgb(135, 197, 95)\",\"pattern\":{\"shape\":\"\"}},\"name\":\"visualization\",\"offsetgroup\":\"visualization\",\"orientation\":\"h\",\"showlegend\":true,\"textposition\":\"auto\",\"x\":[4],\"xaxis\":\"x\",\"y\":[\"visualization\"],\"yaxis\":\"y\",\"type\":\"bar\"}],                        {\"template\":{\"data\":{\"barpolar\":[{\"marker\":{\"line\":{\"color\":\"white\",\"width\":0.5},\"pattern\":{\"fillmode\":\"overlay\",\"size\":10,\"solidity\":0.2}},\"type\":\"barpolar\"}],\"bar\":[{\"error_x\":{\"color\":\"#2a3f5f\"},\"error_y\":{\"color\":\"#2a3f5f\"},\"marker\":{\"line\":{\"color\":\"white\",\"width\":0.5},\"pattern\":{\"fillmode\":\"overlay\",\"size\":10,\"solidity\":0.2}},\"type\":\"bar\"}],\"carpet\":[{\"aaxis\":{\"endlinecolor\":\"#2a3f5f\",\"gridcolor\":\"#C8D4E3\",\"linecolor\":\"#C8D4E3\",\"minorgridcolor\":\"#C8D4E3\",\"startlinecolor\":\"#2a3f5f\"},\"baxis\":{\"endlinecolor\":\"#2a3f5f\",\"gridcolor\":\"#C8D4E3\",\"linecolor\":\"#C8D4E3\",\"minorgridcolor\":\"#C8D4E3\",\"startlinecolor\":\"#2a3f5f\"},\"type\":\"carpet\"}],\"choropleth\":[{\"colorbar\":{\"outlinewidth\":0,\"ticks\":\"\"},\"type\":\"choropleth\"}],\"contourcarpet\":[{\"colorbar\":{\"outlinewidth\":0,\"ticks\":\"\"},\"type\":\"contourcarpet\"}],\"contour\":[{\"colorbar\":{\"outlinewidth\":0,\"ticks\":\"\"},\"colorscale\":[[0.0,\"#0d0887\"],[0.1111111111111111,\"#46039f\"],[0.2222222222222222,\"#7201a8\"],[0.3333333333333333,\"#9c179e\"],[0.4444444444444444,\"#bd3786\"],[0.5555555555555556,\"#d8576b\"],[0.6666666666666666,\"#ed7953\"],[0.7777777777777778,\"#fb9f3a\"],[0.8888888888888888,\"#fdca26\"],[1.0,\"#f0f921\"]],\"type\":\"contour\"}],\"heatmapgl\":[{\"colorbar\":{\"outlinewidth\":0,\"ticks\":\"\"},\"colorscale\":[[0.0,\"#0d0887\"],[0.1111111111111111,\"#46039f\"],[0.2222222222222222,\"#7201a8\"],[0.3333333333333333,\"#9c179e\"],[0.4444444444444444,\"#bd3786\"],[0.5555555555555556,\"#d8576b\"],[0.6666666666666666,\"#ed7953\"],[0.7777777777777778,\"#fb9f3a\"],[0.8888888888888888,\"#fdca26\"],[1.0,\"#f0f921\"]],\"type\":\"heatmapgl\"}],\"heatmap\":[{\"colorbar\":{\"outlinewidth\":0,\"ticks\":\"\"},\"colorscale\":[[0.0,\"#0d0887\"],[0.1111111111111111,\"#46039f\"],[0.2222222222222222,\"#7201a8\"],[0.3333333333333333,\"#9c179e\"],[0.4444444444444444,\"#bd3786\"],[0.5555555555555556,\"#d8576b\"],[0.6666666666666666,\"#ed7953\"],[0.7777777777777778,\"#fb9f3a\"],[0.8888888888888888,\"#fdca26\"],[1.0,\"#f0f921\"]],\"type\":\"heatmap\"}],\"histogram2dcontour\":[{\"colorbar\":{\"outlinewidth\":0,\"ticks\":\"\"},\"colorscale\":[[0.0,\"#0d0887\"],[0.1111111111111111,\"#46039f\"],[0.2222222222222222,\"#7201a8\"],[0.3333333333333333,\"#9c179e\"],[0.4444444444444444,\"#bd3786\"],[0.5555555555555556,\"#d8576b\"],[0.6666666666666666,\"#ed7953\"],[0.7777777777777778,\"#fb9f3a\"],[0.8888888888888888,\"#fdca26\"],[1.0,\"#f0f921\"]],\"type\":\"histogram2dcontour\"}],\"histogram2d\":[{\"colorbar\":{\"outlinewidth\":0,\"ticks\":\"\"},\"colorscale\":[[0.0,\"#0d0887\"],[0.1111111111111111,\"#46039f\"],[0.2222222222222222,\"#7201a8\"],[0.3333333333333333,\"#9c179e\"],[0.4444444444444444,\"#bd3786\"],[0.5555555555555556,\"#d8576b\"],[0.6666666666666666,\"#ed7953\"],[0.7777777777777778,\"#fb9f3a\"],[0.8888888888888888,\"#fdca26\"],[1.0,\"#f0f921\"]],\"type\":\"histogram2d\"}],\"histogram\":[{\"marker\":{\"pattern\":{\"fillmode\":\"overlay\",\"size\":10,\"solidity\":0.2}},\"type\":\"histogram\"}],\"mesh3d\":[{\"colorbar\":{\"outlinewidth\":0,\"ticks\":\"\"},\"type\":\"mesh3d\"}],\"parcoords\":[{\"line\":{\"colorbar\":{\"outlinewidth\":0,\"ticks\":\"\"}},\"type\":\"parcoords\"}],\"pie\":[{\"automargin\":true,\"type\":\"pie\"}],\"scatter3d\":[{\"line\":{\"colorbar\":{\"outlinewidth\":0,\"ticks\":\"\"}},\"marker\":{\"colorbar\":{\"outlinewidth\":0,\"ticks\":\"\"}},\"type\":\"scatter3d\"}],\"scattercarpet\":[{\"marker\":{\"colorbar\":{\"outlinewidth\":0,\"ticks\":\"\"}},\"type\":\"scattercarpet\"}],\"scattergeo\":[{\"marker\":{\"colorbar\":{\"outlinewidth\":0,\"ticks\":\"\"}},\"type\":\"scattergeo\"}],\"scattergl\":[{\"marker\":{\"colorbar\":{\"outlinewidth\":0,\"ticks\":\"\"}},\"type\":\"scattergl\"}],\"scattermapbox\":[{\"marker\":{\"colorbar\":{\"outlinewidth\":0,\"ticks\":\"\"}},\"type\":\"scattermapbox\"}],\"scatterpolargl\":[{\"marker\":{\"colorbar\":{\"outlinewidth\":0,\"ticks\":\"\"}},\"type\":\"scatterpolargl\"}],\"scatterpolar\":[{\"marker\":{\"colorbar\":{\"outlinewidth\":0,\"ticks\":\"\"}},\"type\":\"scatterpolar\"}],\"scatter\":[{\"fillpattern\":{\"fillmode\":\"overlay\",\"size\":10,\"solidity\":0.2},\"type\":\"scatter\"}],\"scatterternary\":[{\"marker\":{\"colorbar\":{\"outlinewidth\":0,\"ticks\":\"\"}},\"type\":\"scatterternary\"}],\"surface\":[{\"colorbar\":{\"outlinewidth\":0,\"ticks\":\"\"},\"colorscale\":[[0.0,\"#0d0887\"],[0.1111111111111111,\"#46039f\"],[0.2222222222222222,\"#7201a8\"],[0.3333333333333333,\"#9c179e\"],[0.4444444444444444,\"#bd3786\"],[0.5555555555555556,\"#d8576b\"],[0.6666666666666666,\"#ed7953\"],[0.7777777777777778,\"#fb9f3a\"],[0.8888888888888888,\"#fdca26\"],[1.0,\"#f0f921\"]],\"type\":\"surface\"}],\"table\":[{\"cells\":{\"fill\":{\"color\":\"#EBF0F8\"},\"line\":{\"color\":\"white\"}},\"header\":{\"fill\":{\"color\":\"#C8D4E3\"},\"line\":{\"color\":\"white\"}},\"type\":\"table\"}]},\"layout\":{\"annotationdefaults\":{\"arrowcolor\":\"#2a3f5f\",\"arrowhead\":0,\"arrowwidth\":1},\"autotypenumbers\":\"strict\",\"coloraxis\":{\"colorbar\":{\"outlinewidth\":0,\"ticks\":\"\"}},\"colorscale\":{\"diverging\":[[0,\"#8e0152\"],[0.1,\"#c51b7d\"],[0.2,\"#de77ae\"],[0.3,\"#f1b6da\"],[0.4,\"#fde0ef\"],[0.5,\"#f7f7f7\"],[0.6,\"#e6f5d0\"],[0.7,\"#b8e186\"],[0.8,\"#7fbc41\"],[0.9,\"#4d9221\"],[1,\"#276419\"]],\"sequential\":[[0.0,\"#0d0887\"],[0.1111111111111111,\"#46039f\"],[0.2222222222222222,\"#7201a8\"],[0.3333333333333333,\"#9c179e\"],[0.4444444444444444,\"#bd3786\"],[0.5555555555555556,\"#d8576b\"],[0.6666666666666666,\"#ed7953\"],[0.7777777777777778,\"#fb9f3a\"],[0.8888888888888888,\"#fdca26\"],[1.0,\"#f0f921\"]],\"sequentialminus\":[[0.0,\"#0d0887\"],[0.1111111111111111,\"#46039f\"],[0.2222222222222222,\"#7201a8\"],[0.3333333333333333,\"#9c179e\"],[0.4444444444444444,\"#bd3786\"],[0.5555555555555556,\"#d8576b\"],[0.6666666666666666,\"#ed7953\"],[0.7777777777777778,\"#fb9f3a\"],[0.8888888888888888,\"#fdca26\"],[1.0,\"#f0f921\"]]},\"colorway\":[\"#636efa\",\"#EF553B\",\"#00cc96\",\"#ab63fa\",\"#FFA15A\",\"#19d3f3\",\"#FF6692\",\"#B6E880\",\"#FF97FF\",\"#FECB52\"],\"font\":{\"color\":\"#2a3f5f\"},\"geo\":{\"bgcolor\":\"white\",\"lakecolor\":\"white\",\"landcolor\":\"white\",\"showlakes\":true,\"showland\":true,\"subunitcolor\":\"#C8D4E3\"},\"hoverlabel\":{\"align\":\"left\"},\"hovermode\":\"closest\",\"mapbox\":{\"style\":\"light\"},\"paper_bgcolor\":\"white\",\"plot_bgcolor\":\"white\",\"polar\":{\"angularaxis\":{\"gridcolor\":\"#EBF0F8\",\"linecolor\":\"#EBF0F8\",\"ticks\":\"\"},\"bgcolor\":\"white\",\"radialaxis\":{\"gridcolor\":\"#EBF0F8\",\"linecolor\":\"#EBF0F8\",\"ticks\":\"\"}},\"scene\":{\"xaxis\":{\"backgroundcolor\":\"white\",\"gridcolor\":\"#DFE8F3\",\"gridwidth\":2,\"linecolor\":\"#EBF0F8\",\"showbackground\":true,\"ticks\":\"\",\"zerolinecolor\":\"#EBF0F8\"},\"yaxis\":{\"backgroundcolor\":\"white\",\"gridcolor\":\"#DFE8F3\",\"gridwidth\":2,\"linecolor\":\"#EBF0F8\",\"showbackground\":true,\"ticks\":\"\",\"zerolinecolor\":\"#EBF0F8\"},\"zaxis\":{\"backgroundcolor\":\"white\",\"gridcolor\":\"#DFE8F3\",\"gridwidth\":2,\"linecolor\":\"#EBF0F8\",\"showbackground\":true,\"ticks\":\"\",\"zerolinecolor\":\"#EBF0F8\"}},\"shapedefaults\":{\"line\":{\"color\":\"#2a3f5f\"}},\"ternary\":{\"aaxis\":{\"gridcolor\":\"#DFE8F3\",\"linecolor\":\"#A2B1C6\",\"ticks\":\"\"},\"baxis\":{\"gridcolor\":\"#DFE8F3\",\"linecolor\":\"#A2B1C6\",\"ticks\":\"\"},\"bgcolor\":\"white\",\"caxis\":{\"gridcolor\":\"#DFE8F3\",\"linecolor\":\"#A2B1C6\",\"ticks\":\"\"}},\"title\":{\"x\":0.05},\"xaxis\":{\"automargin\":true,\"gridcolor\":\"#EBF0F8\",\"linecolor\":\"#EBF0F8\",\"ticks\":\"\",\"title\":{\"standoff\":15},\"zerolinecolor\":\"#EBF0F8\",\"zerolinewidth\":2},\"yaxis\":{\"automargin\":true,\"gridcolor\":\"#EBF0F8\",\"linecolor\":\"#EBF0F8\",\"ticks\":\"\",\"title\":{\"standoff\":15},\"zerolinecolor\":\"#EBF0F8\",\"zerolinewidth\":2}}},\"xaxis\":{\"anchor\":\"y\",\"domain\":[0.0,1.0],\"title\":{\"text\":\"Frequency\"},\"showgrid\":true,\"gridcolor\":\"rgba(0,0,0,0.1)\"},\"yaxis\":{\"anchor\":\"x\",\"domain\":[0.0,1.0],\"title\":{\"text\":\"Skill\"},\"categoryorder\":\"total ascending\",\"categoryarray\":[\"visualization\",\"aws\",\"sas\",\"powerbi\",\"dashboard\",\"epic\",\"tableau\",\"statistics\",\"r\",\"azure\",\"python\",\"excel\",\"dashboards\",\"sql\",\"communication\",\"reporting\"]},\"legend\":{\"title\":{\"text\":\"Skill\"},\"tracegroupgap\":0},\"margin\":{\"t\":60,\"l\":80,\"r\":40,\"b\":40},\"barmode\":\"relative\",\"height\":600},                        {\"responsive\": true}                    ).then(function(){\n",
       "                            \n",
       "var gd = document.getElementById('38f30c39-e496-4ded-8b83-c71bc5095748');\n",
       "var x = new MutationObserver(function (mutations, observer) {{\n",
       "        var display = window.getComputedStyle(gd).display;\n",
       "        if (!display || display === 'none') {{\n",
       "            console.log([gd, 'removed!']);\n",
       "            Plotly.purge(gd);\n",
       "            observer.disconnect();\n",
       "        }}\n",
       "}});\n",
       "\n",
       "// Listen for the removal of the full notebook cells\n",
       "var notebookContainer = gd.closest('#notebook-container');\n",
       "if (notebookContainer) {{\n",
       "    x.observe(notebookContainer, {childList: true});\n",
       "}}\n",
       "\n",
       "// Listen for the clearing of the current output cell\n",
       "var outputEl = gd.closest('.output');\n",
       "if (outputEl) {{\n",
       "    x.observe(outputEl, {childList: true});\n",
       "}}\n",
       "\n",
       "                        })                };                });            </script>        </div>"
      ]
     },
     "metadata": {},
     "output_type": "display_data"
    }
   ],
   "source": [
    "#plotly barchart\n",
    "fig = px.bar(skill_freq_df, x=\"Frequency\", y=\"Skill\", color=\"Skill\",  # this makes each bar colored\n",
    "    color_discrete_sequence=px.colors.qualitative.Pastel )\n",
    "fig.update_layout(\n",
    "    template=\"plotly_white\",\n",
    "    height=600,\n",
    "    margin=dict(l=80, r=40, t=60, b=40),\n",
    "    xaxis=dict(showgrid=True, gridcolor=\"rgba(0,0,0,0.1)\"),\n",
    "    yaxis=dict(categoryorder=\"total ascending\")  # biggest at top\n",
    ")\n",
    "fig.show()"
   ]
  },
  {
   "cell_type": "code",
   "execution_count": null,
   "id": "fb00d76d-e3e6-4b56-ac61-621ea9b4e5c8",
   "metadata": {},
   "outputs": [],
   "source": []
  }
 ],
 "metadata": {
  "kernelspec": {
   "display_name": "Python 3 (ipykernel)",
   "language": "python",
   "name": "python3"
  },
  "language_info": {
   "codemirror_mode": {
    "name": "ipython",
    "version": 3
   },
   "file_extension": ".py",
   "mimetype": "text/x-python",
   "name": "python",
   "nbconvert_exporter": "python",
   "pygments_lexer": "ipython3",
   "version": "3.12.4"
  }
 },
 "nbformat": 4,
 "nbformat_minor": 5
}
