{
 "cells": [
  {
   "cell_type": "code",
   "execution_count": 111,
   "id": "f2c59cf5-7026-4191-8900-1c2f7a2cbb12",
   "metadata": {},
   "outputs": [
    {
     "name": "stderr",
     "output_type": "stream",
     "text": [
      "[nltk_data] Downloading package punkt to\n",
      "[nltk_data]     C:\\Users\\lubab\\AppData\\Roaming\\nltk_data...\n",
      "[nltk_data]   Package punkt is already up-to-date!\n",
      "[nltk_data] Downloading package stopwords to\n",
      "[nltk_data]     C:\\Users\\lubab\\AppData\\Roaming\\nltk_data...\n",
      "[nltk_data]   Package stopwords is already up-to-date!\n"
     ]
    },
    {
     "data": {
      "text/plain": [
       "True"
      ]
     },
     "execution_count": 111,
     "metadata": {},
     "output_type": "execute_result"
    }
   ],
   "source": [
    "import pandas as pd\n",
    "import numpy as np\n",
    "import os\n",
    "import seaborn as sns\n",
    "import matplotlib.pyplot as plt \n",
    "import re\n",
    "from sklearn.feature_extraction.text import CountVectorizer\n",
    "from nltk.corpus import stopwords\n",
    "from nltk.tokenize import word_tokenize\n",
    "import nltk\n",
    "nltk.download('punkt')\n",
    "nltk.download('stopwords')"
   ]
  },
  {
   "cell_type": "code",
   "execution_count": 113,
   "id": "80986be6-9647-4628-ab87-a0f3aac44cb1",
   "metadata": {},
   "outputs": [
    {
     "data": {
      "text/plain": [
       "110"
      ]
     },
     "execution_count": 113,
     "metadata": {},
     "output_type": "execute_result"
    }
   ],
   "source": [
    "data = pd.read_csv(\"C:\\\\Users\\\\lubab\\\\OneDrive\\\\Documents\\\\Data Science Portfolio Projects\\\\Healthcare Data Anayst Jobs Australia\\\\healthcare-data-analyst-jobs-australia\\\\data\\\\raw\\\\healthcare_jobs_full.csv\")\n",
    "len(data)"
   ]
  },
  {
   "cell_type": "code",
   "execution_count": 115,
   "id": "513c5171-aaef-46f2-bfd2-c8f97bc3ecfe",
   "metadata": {},
   "outputs": [
    {
     "data": {
      "text/plain": [
       "103"
      ]
     },
     "execution_count": 115,
     "metadata": {},
     "output_type": "execute_result"
    }
   ],
   "source": [
    "#removing expired jobs \n",
    "data = data[data['full description'] != 'Job description not found or job no longer advertised']\n",
    "len(data)"
   ]
  },
  {
   "cell_type": "code",
   "execution_count": 117,
   "id": "3b4f161e-936b-4c33-90f2-39bc38ad0838",
   "metadata": {},
   "outputs": [
    {
     "data": {
      "text/plain": [
       "103"
      ]
     },
     "execution_count": 117,
     "metadata": {},
     "output_type": "execute_result"
    }
   ],
   "source": [
    "data = data.drop_duplicates()\n",
    "len(data)"
   ]
  },
  {
   "cell_type": "code",
   "execution_count": 119,
   "id": "f40bf1e4-c309-4a46-b58a-bbe64f3d9204",
   "metadata": {},
   "outputs": [
    {
     "name": "stdout",
     "output_type": "stream",
     "text": [
      "Index(['Title', 'Company', 'Location', 'Short Description', 'Link',\n",
      "       'full description'],\n",
      "      dtype='object')\n"
     ]
    }
   ],
   "source": [
    "data.shape\n",
    "print(data.columns)"
   ]
  },
  {
   "cell_type": "code",
   "execution_count": 121,
   "id": "1e752dc4-d985-464a-853c-ed42d70caaac",
   "metadata": {},
   "outputs": [
    {
     "data": {
      "text/plain": [
       "0    Location:\\nSunshine Hospital\\nEmployment Type:...\n",
       "1    We're Hiring: Population Health Data Analyst\\n...\n",
       "2    Location:\\nWilliamstown Hospital\\nEmployment T...\n",
       "Name: full description, dtype: object"
      ]
     },
     "execution_count": 121,
     "metadata": {},
     "output_type": "execute_result"
    }
   ],
   "source": [
    "data['full description'].head(3)"
   ]
  },
  {
   "cell_type": "code",
   "execution_count": 123,
   "id": "8a08c6ee-97c9-4e02-ad4d-da21a080063e",
   "metadata": {},
   "outputs": [
    {
     "data": {
      "text/plain": [
       "0    location:\\nsunshine hospital\\nemployment type:...\n",
       "1    we're hiring: population health data analyst\\n...\n",
       "2    location:\\nwilliamstown hospital\\nemployment t...\n",
       "Name: full description, dtype: object"
      ]
     },
     "execution_count": 123,
     "metadata": {},
     "output_type": "execute_result"
    }
   ],
   "source": [
    "#turning everything into lowercase\n",
    "data['full description'] = data['full description'].str.lower()\n",
    "data['full description'].head(3)"
   ]
  },
  {
   "cell_type": "code",
   "execution_count": 125,
   "id": "91bb63f5-91cd-44ed-8b39-88ee1070732c",
   "metadata": {},
   "outputs": [
    {
     "data": {
      "text/html": [
       "<div>\n",
       "<style scoped>\n",
       "    .dataframe tbody tr th:only-of-type {\n",
       "        vertical-align: middle;\n",
       "    }\n",
       "\n",
       "    .dataframe tbody tr th {\n",
       "        vertical-align: top;\n",
       "    }\n",
       "\n",
       "    .dataframe thead th {\n",
       "        text-align: right;\n",
       "    }\n",
       "</style>\n",
       "<table border=\"1\" class=\"dataframe\">\n",
       "  <thead>\n",
       "    <tr style=\"text-align: right;\">\n",
       "      <th></th>\n",
       "      <th>Title</th>\n",
       "      <th>Company</th>\n",
       "      <th>Location</th>\n",
       "      <th>Short Description</th>\n",
       "      <th>Link</th>\n",
       "      <th>full description</th>\n",
       "    </tr>\n",
       "  </thead>\n",
       "  <tbody>\n",
       "    <tr>\n",
       "      <th>0</th>\n",
       "      <td>Data Analyst</td>\n",
       "      <td>Western Health</td>\n",
       "      <td>St Albans</td>\n",
       "      <td>A unique opportunity exists to join the Wester...</td>\n",
       "      <td>https://www.seek.com.au/job/86244018?type=stan...</td>\n",
       "      <td>location:\\nsunshine hospital\\nemployment type:...</td>\n",
       "    </tr>\n",
       "    <tr>\n",
       "      <th>1</th>\n",
       "      <td>Population Health Data Analyst</td>\n",
       "      <td>South Eastern Melbourne Primary Health Network</td>\n",
       "      <td>Heatherton</td>\n",
       "      <td>Analyse data to drive population health planning</td>\n",
       "      <td>https://www.seek.com.au/job/86312389?type=stan...</td>\n",
       "      <td>we're hiring: population health data analyst\\n...</td>\n",
       "    </tr>\n",
       "    <tr>\n",
       "      <th>2</th>\n",
       "      <td>Data Analyst</td>\n",
       "      <td>Western Health</td>\n",
       "      <td>Williamstown</td>\n",
       "      <td>Drive data-driven insights and improve organis...</td>\n",
       "      <td>https://www.seek.com.au/job/86238954?type=stan...</td>\n",
       "      <td>location:\\nwilliamstown hospital\\nemployment t...</td>\n",
       "    </tr>\n",
       "    <tr>\n",
       "      <th>3</th>\n",
       "      <td>Data Analyst</td>\n",
       "      <td>Western Health</td>\n",
       "      <td>Footscray</td>\n",
       "      <td>Excellent data management and problem skills, ...</td>\n",
       "      <td>https://www.seek.com.au/job/86244700?type=stan...</td>\n",
       "      <td>about you:\\nexcellent data management and prob...</td>\n",
       "    </tr>\n",
       "    <tr>\n",
       "      <th>4</th>\n",
       "      <td>Senior Analyst</td>\n",
       "      <td>Alfred Health</td>\n",
       "      <td>Melbourne VIC</td>\n",
       "      <td>Permanent Full Time (1.0 EFT / 80 Hours) + ADO...</td>\n",
       "      <td>https://www.seek.com.au/job/86301836?type=stan...</td>\n",
       "      <td>alfred health\\nalfred health is a leader in he...</td>\n",
       "    </tr>\n",
       "  </tbody>\n",
       "</table>\n",
       "</div>"
      ],
      "text/plain": [
       "                            Title  \\\n",
       "0                    Data Analyst   \n",
       "1  Population Health Data Analyst   \n",
       "2                    Data Analyst   \n",
       "3                    Data Analyst   \n",
       "4                  Senior Analyst   \n",
       "\n",
       "                                          Company       Location  \\\n",
       "0                                  Western Health      St Albans   \n",
       "1  South Eastern Melbourne Primary Health Network     Heatherton   \n",
       "2                                  Western Health   Williamstown   \n",
       "3                                  Western Health      Footscray   \n",
       "4                                   Alfred Health  Melbourne VIC   \n",
       "\n",
       "                                   Short Description  \\\n",
       "0  A unique opportunity exists to join the Wester...   \n",
       "1   Analyse data to drive population health planning   \n",
       "2  Drive data-driven insights and improve organis...   \n",
       "3  Excellent data management and problem skills, ...   \n",
       "4  Permanent Full Time (1.0 EFT / 80 Hours) + ADO...   \n",
       "\n",
       "                                                Link  \\\n",
       "0  https://www.seek.com.au/job/86244018?type=stan...   \n",
       "1  https://www.seek.com.au/job/86312389?type=stan...   \n",
       "2  https://www.seek.com.au/job/86238954?type=stan...   \n",
       "3  https://www.seek.com.au/job/86244700?type=stan...   \n",
       "4  https://www.seek.com.au/job/86301836?type=stan...   \n",
       "\n",
       "                                    full description  \n",
       "0  location:\\nsunshine hospital\\nemployment type:...  \n",
       "1  we're hiring: population health data analyst\\n...  \n",
       "2  location:\\nwilliamstown hospital\\nemployment t...  \n",
       "3  about you:\\nexcellent data management and prob...  \n",
       "4  alfred health\\nalfred health is a leader in he...  "
      ]
     },
     "execution_count": 125,
     "metadata": {},
     "output_type": "execute_result"
    }
   ],
   "source": [
    "data.head()"
   ]
  },
  {
   "cell_type": "code",
   "execution_count": 127,
   "id": "80776f13-ede6-465b-a666-2cc681a0e96f",
   "metadata": {},
   "outputs": [
    {
     "data": {
      "text/plain": [
       "0    location: sunshine hospital employment type: f...\n",
       "1    we're hiring: population health data analyst l...\n",
       "2    location: williamstown hospital employment typ...\n",
       "Name: full description, dtype: object"
      ]
     },
     "execution_count": 127,
     "metadata": {},
     "output_type": "execute_result"
    }
   ],
   "source": [
    "#removing whitespace\n",
    "data['full description'] = data['full description'].apply(lambda x: re.sub(r'\\s+', ' ', str(x)).strip())\n",
    "data['full description'].head(3)"
   ]
  },
  {
   "cell_type": "code",
   "execution_count": 129,
   "id": "e0e4004c-8fd6-4932-a145-6f52cc81a023",
   "metadata": {},
   "outputs": [
    {
     "data": {
      "text/plain": [
       "0    location sunshine hospital employment type fix...\n",
       "1    were hiring population health data analyst loc...\n",
       "2    location williamstown hospital employment type...\n",
       "Name: full description, dtype: object"
      ]
     },
     "execution_count": 129,
     "metadata": {},
     "output_type": "execute_result"
    }
   ],
   "source": [
    "#removing punctuation\n",
    "data['full description'] = data['full description'].apply(lambda x: re.sub(r'[^\\w\\s]', '', str(x)).strip())\n",
    "data['full description'].head(3)"
   ]
  },
  {
   "cell_type": "code",
   "execution_count": 131,
   "id": "2dce6f57-7a05-45de-93b7-58d22804285a",
   "metadata": {},
   "outputs": [],
   "source": [
    "#tokenizing sentences\n",
    "data['tokenized_sent'] = data['full description'].apply(lambda x: word_tokenize(str(x))) \n",
    "\n",
    "#removing stop words\n",
    "stop_words = set(stopwords.words('english'))\n",
    "data['token_no_stopwords'] = data['tokenized_sent'].apply(lambda x: [word for word in x if word not in stop_words])"
   ]
  },
  {
   "cell_type": "code",
   "execution_count": null,
   "id": "94978473-9dfe-4068-989b-8c6f27c8f31f",
   "metadata": {},
   "outputs": [],
   "source": []
  }
 ],
 "metadata": {
  "kernelspec": {
   "display_name": "Python 3 (ipykernel)",
   "language": "python",
   "name": "python3"
  },
  "language_info": {
   "codemirror_mode": {
    "name": "ipython",
    "version": 3
   },
   "file_extension": ".py",
   "mimetype": "text/x-python",
   "name": "python",
   "nbconvert_exporter": "python",
   "pygments_lexer": "ipython3",
   "version": "3.12.4"
  }
 },
 "nbformat": 4,
 "nbformat_minor": 5
}
